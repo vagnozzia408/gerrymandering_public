{
 "cells": [
  {
   "cell_type": "markdown",
   "metadata": {},
   "source": [
    "# Initial Partisan Bias Measures\n",
    "The following code calculates the initial partisan bias measures for a given map. \n",
    "\n",
    "**Measures:** Median-Mean (MM), Variable Geometric Bias (BGV)"
   ]
  },
  {
   "cell_type": "code",
   "execution_count": 1,
   "metadata": {},
   "outputs": [],
   "source": [
    "# Import necessary libraries.\n",
    "from __future__ import division\n",
    "\n",
    "import io\n",
    "import csv\n",
    "import math\n",
    "import statistics"
   ]
  },
  {
   "cell_type": "code",
   "execution_count": 3,
   "metadata": {},
   "outputs": [],
   "source": [
    "# TO DO: Import the same input data set used in the Markov Chain.\n",
    "infile = io.open(\"C:/Users/avagnoz/Desktop/AM_Updated_Precinct_Cleaning/final_cleaning/InputSC_House2011.csv\",newline='')\n",
    "reader = csv.reader(infile)\n",
    "header = next(reader)\n",
    "\n",
    "# Read in PSN, voteA, voteB, <DISTRICT>\n",
    "precinct_data = [[eval(row[0]), eval(row[6]), eval(row[7]), eval(row[8])] for row in reader]\n",
    "infile.close()\n",
    "\n",
    "# Ensure that all SC precincts are accounted for.\n",
    "assert(len(precinct_data)==2260)"
   ]
  },
  {
   "cell_type": "code",
   "execution_count": 4,
   "metadata": {},
   "outputs": [],
   "source": [
    "# Run through each line of the data set to perform a few calculations. We need:\n",
    "    # Total Votes in SC\n",
    "    # Total Democratic Votes\n",
    "    # Proportion of Democratic Votes in Each District\n",
    "    \n",
    "# Key = District, Value = Total Votes in the District\n",
    "District_Vote_Totals = dict()\n",
    "\n",
    "# Key = District, Value = DEM Votes in the District \n",
    "District_DEM_Votes = dict()\n",
    "\n",
    "# Key = District, Value = REP Votes in the District \n",
    "District_REP_Votes = dict()\n",
    "\n",
    "for precinct in precinct_data:\n",
    "    # Count Democratic/Republican Votes and Total Votes in this precinct.\n",
    "    DEM_votes = precinct[1]\n",
    "    REP_votes = precinct[2]\n",
    "    ALL_votes = precinct[1] + precinct[2]\n",
    "    # Look at this precinct's district. \n",
    "    d = precinct[3]\n",
    "    # If we've already looked at precincts from District d:\n",
    "    if d in District_Vote_Totals:\n",
    "        # Add the votes from this precinct to the count.\n",
    "        District_Vote_Totals[d] += ALL_votes\n",
    "    else:\n",
    "        District_Vote_Totals[d] = ALL_votes\n",
    "    # Do the same thing for the Democratic Votes\n",
    "    if d in District_DEM_Votes:\n",
    "        District_DEM_Votes[d] += DEM_votes\n",
    "    else:\n",
    "        District_DEM_Votes[d] = DEM_votes\n",
    "    # Annnnnnd for Republican Votes\n",
    "    if d in District_REP_Votes:\n",
    "        District_REP_Votes[d] += REP_votes\n",
    "    else:\n",
    "        District_REP_Votes[d] = REP_votes"
   ]
  },
  {
   "cell_type": "code",
   "execution_count": 5,
   "metadata": {},
   "outputs": [],
   "source": [
    "# District Vote Proportions\n",
    "Ashares = dict()\n",
    "for d in District_DEM_Votes.keys():\n",
    "    Ashares[d] = District_DEM_Votes[d] / District_Vote_Totals[d]\n",
    "    \n",
    "# print \"Democratic Vote Proportions in Each District: \" + str(Ashares)\n",
    "\n",
    "NUM_DISTRICTS = len(Ashares)\n",
    "# print NUM_DISTRICTS\n",
    "\n",
    "# for item in sorted(Ashares.items(), key = lambda x: x[1]):\n",
    "#     print item\n",
    "\n",
    "#print(NUM_DISTRICTS)\n",
    "#for item in sorted(Ashares.items(), key = lambda x: x[1]):\n",
    "#    print(item)\n",
    "#print(\"Democratic Vote Proportions in Each District: \" + str(Ashares))"
   ]
  },
  {
   "cell_type": "code",
   "execution_count": 6,
   "metadata": {},
   "outputs": [
    {
     "name": "stdout",
     "output_type": "stream",
     "text": [
      "Average Statewide Vote: V = 0.4598248404464626\n",
      "Democratic Seats Won: SV = 40/124 = 0.3225806451612903\n"
     ]
    }
   ],
   "source": [
    "# Average Statewide Vote\n",
    "sum_vd = 0\n",
    "for d in Ashares.keys():\n",
    "    sum_vd += Ashares[d]\n",
    "V = (1/NUM_DISTRICTS) * sum_vd\n",
    "\n",
    "# Estimated Seat Proportion\n",
    "\n",
    "sum_DEM_seats = 0\n",
    "for d in Ashares.keys():\n",
    "    if Ashares[d] > 0.5:\n",
    "        sum_DEM_seats += 1\n",
    "SV = (1/NUM_DISTRICTS) * sum_DEM_seats\n",
    "\n",
    "print(\"Average Statewide Vote: V = \" + str(V))\n",
    "print(\"Democratic Seats Won: SV = \" + str(sum_DEM_seats) + \"/\" + str(NUM_DISTRICTS) + \" = \" + str(SV))\n",
    "\n",
    "# print(sorted(Ashares.items(), key = lambda x: x[1]))"
   ]
  },
  {
   "cell_type": "markdown",
   "metadata": {},
   "source": [
    "# $MM$ (Median-Mean)"
   ]
  },
  {
   "cell_type": "code",
   "execution_count": 7,
   "metadata": {},
   "outputs": [
    {
     "name": "stdout",
     "output_type": "stream",
     "text": [
      "MM = -0.04146219137476875\n"
     ]
    }
   ],
   "source": [
    "MED = statistics.median(Ashares.values())\n",
    "\n",
    "MM=MED-V\n",
    "print(\"MM = \" + str(MM))"
   ]
  },
  {
   "cell_type": "markdown",
   "metadata": {},
   "source": [
    "# Efficiency Gap"
   ]
  },
  {
   "cell_type": "code",
   "execution_count": 8,
   "metadata": {},
   "outputs": [],
   "source": [
    "# Wasted Votes for Each Party\n",
    "# Let Dems be Party A and Reps be Party B\n",
    "# EG will be the average district efficiency gap\n",
    "# If EG > 0, it means Dems wasted more votes on average\n",
    "Wasted_Dem_Votes = dict()\n",
    "Wasted_REP_Votes = dict()\n",
    "\n",
    "# We'll store district-wide efficiency gaps here.\n",
    "District_Efficiency_Gaps = dict()\n",
    "\n",
    "for d in District_Vote_Totals.keys():\n",
    "    # Total Votes Cast in District d\n",
    "    N = District_Vote_Totals[d]\n",
    "    assert(N==District_DEM_Votes[d]+District_REP_Votes[d])\n",
    "    # We will calculate the number of wasted votes for each party in District d\n",
    "    wastedDem = 0\n",
    "    wastedRep = 0\n",
    "    \n",
    "    # Make sure we don't have a tie\n",
    "    assert(District_DEM_Votes[d]!=District_REP_Votes[d])\n",
    "    \n",
    "    # Win Threshhold for the District\n",
    "    win_thresh = 0\n",
    "    if N%2 == 0: # N is even\n",
    "        win_thresh = 0.5*N+1\n",
    "    else: # if N%2 == 1 # N is odd\n",
    "        win_thresh = math.ceil(0.5*N)\n",
    "    \n",
    "    # If Party A wins (Dems win)\n",
    "    if District_DEM_Votes[d] > District_REP_Votes[d]:\n",
    "        wastedDem = District_DEM_Votes[d] - win_thresh\n",
    "        wastedRep = District_REP_Votes[d]\n",
    "    # If Party B wins (Reps win)\n",
    "    else: # if District_DEM_Votes[d] < District_REP_Votes[d]\n",
    "        wastedDem = District_DEM_Votes[d]\n",
    "        wastedRep = District_REP_Votes[d] - win_thresh\n",
    "    \n",
    "    # Store the efficiency gap for this district\n",
    "    EG_d = (wastedDem - wastedRep)/N\n",
    "    District_Efficiency_Gaps[d] = EG_d"
   ]
  },
  {
   "cell_type": "code",
   "execution_count": 9,
   "metadata": {},
   "outputs": [],
   "source": [
    "#print(District_Efficiency_Gaps)"
   ]
  },
  {
   "cell_type": "code",
   "execution_count": 10,
   "metadata": {},
   "outputs": [
    {
     "name": "stdout",
     "output_type": "stream",
     "text": [
      "0.09708073850137623\n"
     ]
    }
   ],
   "source": [
    "# Take the average district-wide efficiency gap to see who wastes more votes on average per district\n",
    "EG = statistics.mean(District_Efficiency_Gaps.values())\n",
    "print(EG)"
   ]
  },
  {
   "cell_type": "markdown",
   "metadata": {},
   "source": [
    "# $B_G$ (Variable Partisan Swing Assumption)"
   ]
  },
  {
   "cell_type": "code",
   "execution_count": 11,
   "metadata": {},
   "outputs": [],
   "source": [
    "# New Statewide Proportions\n",
    "new_Vs = []\n",
    "new_Vs.append(V)\n",
    "\n",
    "# For each observed proportion of Democratic votes in a district...\n",
    "for d in Ashares.keys():\n",
    "    # If a Republican occupies the seat:\n",
    "    if Ashares[d] < 0.5:\n",
    "        # The seat will be lost if the statewide vote falls to new_V:\n",
    "        new_V = 1 - (1-V)/(2*(1-Ashares[d]))\n",
    "    # If a Democrat occupies the seat:\n",
    "    elif Ashares[d] > 0.5:\n",
    "        new_V = V / (2*Ashares[d])\n",
    "    else: #if Ashares[d] = 0.5\n",
    "        raise KeyError(\"District Democratic Vote Proportion exactly equal to 0.5?\")\n",
    "    \n",
    "    new_Vs.append(new_V)\n",
    "    \n",
    "MPS_SV = []\n",
    "new_Vs = sorted(new_Vs)\n",
    "for i in range(len(new_Vs)):\n",
    "    MPS_SV.append((new_Vs[i],i/(len(new_Vs)-1)))\n",
    "    \n",
    "# print MPS_SV"
   ]
  },
  {
   "cell_type": "code",
   "execution_count": 12,
   "metadata": {},
   "outputs": [],
   "source": [
    "MPS_SVI = []\n",
    "for point in MPS_SV:\n",
    "    MPS_SVI.append((1-point[0],1-point[1]))\n",
    "MPS_SVI = sorted(MPS_SVI)\n",
    "\n",
    "# print MPS_SVI"
   ]
  },
  {
   "cell_type": "code",
   "execution_count": 13,
   "metadata": {},
   "outputs": [],
   "source": [
    "# Find intersection points.\n",
    "int_pts2 = []\n",
    "for i in range(len(MPS_SV)-1):\n",
    "    # If we find where two line segments intersect...\n",
    "    if (MPS_SV[i][0] < MPS_SVI[i][0] and MPS_SV[i+1][0] > MPS_SVI[i+1][0]) or (MPS_SV[i][0] > MPS_SVI[i][0] and MPS_SV[i+1][0] < MPS_SVI[i+1][0]):\n",
    "        # Find Seats-Votes line segment.\n",
    "        m1 = (MPS_SV[i+1][1]-MPS_SV[i][1]) / (MPS_SV[i+1][0]-MPS_SV[i][0])\n",
    "        b1 = MPS_SV[i][1] - m1 * MPS_SV[i][0]\n",
    "        \n",
    "        # Find Inverted Seats-Votes line segment.\n",
    "        m2 = (MPS_SVI[i+1][1]-MPS_SVI[i][1]) / (MPS_SVI[i+1][0]-MPS_SVI[i][0])\n",
    "        b2 = MPS_SVI[i][1] - m2 * MPS_SVI[i][0]\n",
    "        \n",
    "        # Find the intersection point.\n",
    "        x = (b2-b1)/(m1-m2)\n",
    "        y = m1 * x + b1\n",
    "        \n",
    "        int_pts2.append((x,y))\n",
    "        \n",
    "# print int_pts2"
   ]
  },
  {
   "cell_type": "code",
   "execution_count": 14,
   "metadata": {},
   "outputs": [],
   "source": [
    "# Append intersection points to SV and SVI points, then sort.\n",
    "for pt in int_pts2:\n",
    "    MPS_SV.append(pt)\n",
    "    MPS_SVI.append(pt)\n",
    "MPS_SV = sorted(MPS_SV)\n",
    "MPS_SVI = sorted(MPS_SVI)"
   ]
  },
  {
   "cell_type": "code",
   "execution_count": 15,
   "metadata": {},
   "outputs": [
    {
     "name": "stdout",
     "output_type": "stream",
     "text": [
      "Under the MPS assumption, B_G = 0.03979997859670535 or 3.98%\n"
     ]
    }
   ],
   "source": [
    "# Calculate total area under the SV and Inverse SV curves.\n",
    "BG_MPS = 0\n",
    "\n",
    "# 'Integrate' with respect to y\n",
    "xmax2 = max(MPS_SV[-1][0], MPS_SVI[-1][0])\n",
    "\n",
    "for i in range(len(MPS_SV)-1):\n",
    "    # Area under Seats-Votes curve\n",
    "    b1 = xmax2 - MPS_SV[i][0]\n",
    "    b2 = xmax2 - MPS_SV[i+1][0]\n",
    "    h = MPS_SV[i+1][1] - MPS_SV[i][1]\n",
    "    area1 = 0.5 * (b1 + b2) * h\n",
    "    \n",
    "    # Area under Inverted Seats-Votes curve\n",
    "    ib1 = xmax2 - MPS_SVI[i][0]\n",
    "    ib2 = xmax2 - MPS_SVI[i+1][0]\n",
    "    ih = MPS_SVI[i+1][1] - MPS_SVI[i][1]\n",
    "    area2 = 0.5 * (ib1 + ib2) * ih\n",
    "    \n",
    "    BG_MPS += abs(area2 - area1)\n",
    "    \n",
    "print(\"Under the MPS assumption, B_G = \" + str(BG_MPS) + \" or \" + str(round(BG_MPS*100,2)) + \"%\")"
   ]
  },
  {
   "cell_type": "markdown",
   "metadata": {},
   "source": [
    "# SUMMARY OF RESULTS"
   ]
  },
  {
   "cell_type": "code",
   "execution_count": 16,
   "metadata": {},
   "outputs": [
    {
     "name": "stdout",
     "output_type": "stream",
     "text": [
      "INITIAL BIAS MEASURES\n",
      "-----------------------\n",
      "MM = -0.04146219137476875\n",
      "B_G = 0.03979997859670535\n",
      "EG = 0.09708073850137623\n",
      "ADD OTHER MEASURES\n"
     ]
    }
   ],
   "source": [
    "print(\"INITIAL BIAS MEASURES\")\n",
    "print(\"-----------------------\")\n",
    "print(\"MM = \" + str(MM))\n",
    "print(\"B_G = \" + str(BG_MPS))\n",
    "print(\"EG = \" + str(EG))\n",
    "print(\"ADD OTHER MEASURES\")"
   ]
  },
  {
   "cell_type": "code",
   "execution_count": null,
   "metadata": {},
   "outputs": [],
   "source": []
  }
 ],
 "metadata": {
  "kernelspec": {
   "display_name": "Python 3",
   "language": "python",
   "name": "python3"
  },
  "language_info": {
   "codemirror_mode": {
    "name": "ipython",
    "version": 3
   },
   "file_extension": ".py",
   "mimetype": "text/x-python",
   "name": "python",
   "nbconvert_exporter": "python",
   "pygments_lexer": "ipython3",
   "version": "3.7.10"
  }
 },
 "nbformat": 4,
 "nbformat_minor": 2
}
