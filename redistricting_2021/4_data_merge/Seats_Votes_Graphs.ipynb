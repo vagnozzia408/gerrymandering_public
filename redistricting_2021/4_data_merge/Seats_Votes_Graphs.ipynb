{
 "cells": [
  {
   "cell_type": "markdown",
   "metadata": {},
   "source": [
    "# Calculating the Seats-Votes Curve\n",
    "The following code estimates the seats-votes curve using both the Uniform Partisan Swing Assumption (Katz et al.) and the Modified Partisan Swing Assumption (Nagle)."
   ]
  },
  {
   "cell_type": "code",
   "execution_count": 146,
   "metadata": {},
   "outputs": [],
   "source": [
    "# Import necessary libraries.\n",
    "import io\n",
    "import csv\n",
    "\n",
    "from __future__ import division"
   ]
  },
  {
   "cell_type": "code",
   "execution_count": 147,
   "metadata": {},
   "outputs": [],
   "source": [
    "# TO DO: Import the same input data set used in the Markov Chain.\n",
    "infile = io.open(\"C:/Users/Anna Marie Vagnozzi/Desktop/To_File/Research/2021_Redistricting_Group/partisan_bias_analysis/InputSCSen.csv\",newline='')\n",
    "reader = csv.reader(infile)\n",
    "header = next(reader)\n",
    "\n",
    "# Read in PSN, nb, sp, unshared, area, pop, voteA, voteB, <district>, county\n",
    "precinct_data = [[eval(row[0]),row[1],row[2],eval(row[3]),eval(row[4]),eval(row[5]),eval(row[6]),eval(row[7]),eval(row[8]),row[9]] for row in reader]\n",
    "infile.close()\n",
    "\n",
    "# Ensure that all SC precincts are accounted for.\n",
    "#assert(len(precinct_data)==2128)"
   ]
  },
  {
   "cell_type": "code",
   "execution_count": 148,
   "metadata": {},
   "outputs": [],
   "source": [
    "# Run through each line of the data set to perform a few calculations. We need:\n",
    "    # Total Votes in SC\n",
    "    # Total Democratic Votes\n",
    "    # Proportion of Democratic Votes in Each District\n",
    "    \n",
    "# Key = District, Value = Total Votes in the District\n",
    "District_Vote_Totals = dict()\n",
    "\n",
    "# Key = District, Value = DEM Votes in the District \n",
    "District_DEM_Votes = dict()\n",
    "\n",
    "for precinct in precinct_data:\n",
    "    # Count Democratic Votes and Total Votes in this precinct.\n",
    "    DEM_votes = precinct[6]\n",
    "    ALL_votes = precinct[6] + precinct[7]\n",
    "    # Look at this precinct's district. \n",
    "    d = precinct[8]\n",
    "    # If we've already looked at precincts from District d:\n",
    "    if d in District_Vote_Totals:\n",
    "        # Add the votes from this precinct to the count.\n",
    "        District_Vote_Totals[d] += ALL_votes\n",
    "    else:\n",
    "        District_Vote_Totals[d] = ALL_votes\n",
    "    # Do the same thing for the Democratic Votes\n",
    "    if d in District_DEM_Votes:\n",
    "        District_DEM_Votes[d] += DEM_votes\n",
    "    else:\n",
    "        District_DEM_Votes[d] = DEM_votes"
   ]
  },
  {
   "cell_type": "code",
   "execution_count": 149,
   "metadata": {},
   "outputs": [],
   "source": [
    "# District Vote Proportions\n",
    "Ashares = dict()\n",
    "for d in District_DEM_Votes.keys():\n",
    "    Ashares[d] = District_DEM_Votes[d] / District_Vote_Totals[d]\n",
    "    \n",
    "#print \"Democratic Vote Proportions in Each District: \" + str(Ashares)"
   ]
  },
  {
   "cell_type": "code",
   "execution_count": 150,
   "metadata": {},
   "outputs": [],
   "source": [
    "NUM_DISTRICTS = len(Ashares)\n",
    "#print NUM_DISTRICTS"
   ]
  },
  {
   "cell_type": "code",
   "execution_count": 151,
   "metadata": {},
   "outputs": [],
   "source": [
    "#for item in sorted(Ashares.items(), key = lambda x: x[1]):\n",
    "#    print item"
   ]
  },
  {
   "cell_type": "code",
   "execution_count": 152,
   "metadata": {},
   "outputs": [
    {
     "name": "stdout",
     "output_type": "stream",
     "text": [
      "Average Statewide Vote: V = 0.47934534848690713\n"
     ]
    }
   ],
   "source": [
    "# Average Statewide Vote\n",
    "sum_vd = 0\n",
    "for d in Ashares.keys():\n",
    "    sum_vd += Ashares[d]\n",
    "V = (1/NUM_DISTRICTS) * sum_vd\n",
    "\n",
    "print(\"Average Statewide Vote: V = \" + str(V))"
   ]
  },
  {
   "cell_type": "code",
   "execution_count": 153,
   "metadata": {},
   "outputs": [],
   "source": [
    "#templist=[]\n",
    "#for item in sorted(Ashares.items(), key = lambda x: x[1]):\n",
    "#    print(item)\n",
    "#    templist.append(item[1])\n",
    "#print(templist)\n",
    "#import statistics\n",
    "#statistics.median(templist)\n",
    "#print(\"\")\n",
    "#print(\"Test of Median-Mean: MM = \" + str(statistics.median(templist)-V))\n",
    "# can check this against thesis"
   ]
  },
  {
   "cell_type": "code",
   "execution_count": 154,
   "metadata": {},
   "outputs": [
    {
     "name": "stdout",
     "output_type": "stream",
     "text": [
      "Democratic Seats Won: SV = 17/46 = 0.3695652173913043\n"
     ]
    }
   ],
   "source": [
    "# Estimated Seat Proportion\n",
    "\n",
    "sum_DEM_seats = 0\n",
    "for d in Ashares.keys():\n",
    "    if Ashares[d] > 0.5:\n",
    "        sum_DEM_seats += 1\n",
    "SV = (1/NUM_DISTRICTS) * sum_DEM_seats\n",
    "\n",
    "print(\"Democratic Seats Won: SV = \" + str(sum_DEM_seats) + \"/\" + str(NUM_DISTRICTS) + \" = \" + str(SV))"
   ]
  },
  {
   "cell_type": "markdown",
   "metadata": {},
   "source": [
    "# Seats-Votes Curve: Variable Partisan Swing Assumption"
   ]
  },
  {
   "cell_type": "code",
   "execution_count": 155,
   "metadata": {},
   "outputs": [],
   "source": [
    "# New Statewide Proportions\n",
    "new_Vs = []\n",
    "new_Vs.append(V)\n",
    "\n",
    "# For each observed proportion of Democratic votes in a district...\n",
    "for d in Ashares.keys():\n",
    "    # If a Republican occupies the seat:\n",
    "    if Ashares[d] < 0.5:\n",
    "        # The seat will be lost if the statewide vote falls to new_V:\n",
    "        new_V = 1 - (1-V)/(2*(1-Ashares[d]))\n",
    "    # If a Democrat occupies the seat:\n",
    "    elif Ashares[d] > 0.5:\n",
    "        new_V = V / (2*Ashares[d])\n",
    "    else: #if Ashares[d] = 0.5\n",
    "        raise KeyError(\"District Democratic Vote Proportion exactly equal to 0.5?\")\n",
    "    \n",
    "    new_Vs.append(new_V)"
   ]
  },
  {
   "cell_type": "code",
   "execution_count": 156,
   "metadata": {},
   "outputs": [],
   "source": [
    "MPS_SV = []\n",
    "new_Vs = sorted(new_Vs)\n",
    "for i in range(len(new_Vs)):\n",
    "    MPS_SV.append((new_Vs[i],i/(len(new_Vs)-1)))\n",
    "    \n",
    "#print(MPS_SV)"
   ]
  },
  {
   "cell_type": "code",
   "execution_count": 157,
   "metadata": {},
   "outputs": [],
   "source": [
    "MPS_x_vals = [point[0] for point in MPS_SV]\n",
    "MPS_y_vals = [point[1] for point in MPS_SV]\n",
    "\n",
    "#print MPS_x_vals\n",
    "#print MPS_y_vals"
   ]
  },
  {
   "cell_type": "code",
   "execution_count": 158,
   "metadata": {},
   "outputs": [
    {
     "data": {
      "image/png": "[encoded data removed]",
      "text/plain": [
       "<Figure size 540x540 with 1 Axes>"
      ]
     },
     "metadata": {
      "needs_background": "light"
     },
     "output_type": "display_data"
    }
   ],
   "source": [
    "%matplotlib inline\n",
    "import matplotlib.pyplot as plt\n",
    "import numpy as np\n",
    "\n",
    "############# ORIGINAL ###############\n",
    "\n",
    "#plt.figure(figsize=(9,9))\n",
    "#plt.xlabel(\"Proportion of Democratic Vote Share\")\n",
    "#plt.ylabel(\"Proportion of Democratic Seats Won\")\n",
    "#plt.xlim(0,1)\n",
    "#plt.ylim(0,1)\n",
    "#plt.plot(MPS_x_vals, MPS_y_vals, 'o-', color='r')\n",
    "#plt.title('Seats-Votes Curve under Modified Partisan Swing Assumption')\n",
    "#plt.show()\n",
    "\n",
    "######################################\n",
    "\n",
    "fig = plt.figure(figsize=(7.5,7.5))\n",
    "ax = fig.add_subplot(1,1,1)\n",
    "\n",
    "major_ticks = np.arange(0, 1.1, .2)\n",
    "minor_ticks = np.arange(0, 1.1, .1)\n",
    "\n",
    "ax.set_xticks(major_ticks)\n",
    "ax.set_xticks(minor_ticks, minor=True)\n",
    "ax.set_yticks(major_ticks)\n",
    "ax.set_yticks(minor_ticks, minor=True)\n",
    "ax.grid(which='minor', alpha=0.4)\n",
    "ax.grid(which='major', alpha=0.5)\n",
    "\n",
    "plt.xlabel(\"Statewide Average District Vote V\", fontsize=12)\n",
    "plt.ylabel(\"Estimated Statewide Seat Proportion $\\widehat{S}$(V)\", fontsize=12)\n",
    "plt.xlim(-.01,1.01)\n",
    "plt.ylim(-.01,1.01)\n",
    "\n",
    "plt.plot(MPS_x_vals, MPS_y_vals, 'D-', color='#7e26b5', label='$\\widehat{S}(V)$, Variable Partisan Swing')\n",
    "#plt.title('2018 Pennsylvania Congressional Map \\n Seats-Votes Curve (Variable Partisan Swing Assumption)', fontsize=14)\n",
    "plt.title('South Carolina Congressional Map \\n Seats-Votes Curve (Variable Partisan Swing Assumption)', fontsize=14)\n",
    "plt.grid(True)\n",
    "plt.legend(fontsize=11)\n",
    "#plt.savefig('C:/Users/amvag/Dropbox/Masters_Research/Thesis/Vagnozzi_Thesis/PA_2018_SVM.pdf')\n",
    "plt.show()"
   ]
  },
  {
   "cell_type": "markdown",
   "metadata": {},
   "source": [
    "# Geometric Bias $B_G$: Variable Partisan Swing"
   ]
  },
  {
   "cell_type": "code",
   "execution_count": 159,
   "metadata": {},
   "outputs": [],
   "source": [
    "MPS_SVI = []\n",
    "for point in MPS_SV:\n",
    "    MPS_SVI.append((1-point[0],1-point[1]))\n",
    "MPS_SVI = sorted(MPS_SVI)\n",
    "#print MPS_SVI"
   ]
  },
  {
   "cell_type": "code",
   "execution_count": 160,
   "metadata": {},
   "outputs": [],
   "source": [
    "MPS_Inv_x_vals = [point[0] for point in MPS_SVI]\n",
    "MPS_Inv_y_vals = [point[1] for point in MPS_SVI]\n",
    "\n",
    "#print MPS_Inv_x_vals\n",
    "#print MPS_Inv_y_vals"
   ]
  },
  {
   "cell_type": "code",
   "execution_count": 161,
   "metadata": {},
   "outputs": [],
   "source": [
    "# Find intersection points.\n",
    "int_pts2 = []\n",
    "for i in range(len(MPS_SV)-1):\n",
    "    # If we find where two line segments intersect...\n",
    "    if (MPS_SV[i][0] < MPS_SVI[i][0] and MPS_SV[i+1][0] > MPS_SVI[i+1][0]) or (MPS_SV[i][0] > MPS_SVI[i][0] and MPS_SV[i+1][0] < MPS_SVI[i+1][0]):\n",
    "        # Find Seats-Votes line segment.\n",
    "        m1 = (MPS_SV[i+1][1]-MPS_SV[i][1]) / (MPS_SV[i+1][0]-MPS_SV[i][0])\n",
    "        b1 = MPS_SV[i][1] - m1 * MPS_SV[i][0]\n",
    "        \n",
    "        # Find Inverted Seats-Votes line segment.\n",
    "        m2 = (MPS_SVI[i+1][1]-MPS_SVI[i][1]) / (MPS_SVI[i+1][0]-MPS_SVI[i][0])\n",
    "        b2 = MPS_SVI[i][1] - m2 * MPS_SVI[i][0]\n",
    "        \n",
    "        # Find the intersection point.\n",
    "        x = (b2-b1)/(m1-m2)\n",
    "        y = m1 * x + b1\n",
    "        \n",
    "        int_pts2.append((x,y))"
   ]
  },
  {
   "cell_type": "code",
   "execution_count": 162,
   "metadata": {},
   "outputs": [],
   "source": [
    "# Append intersection points to SV and SVI points, then sort.\n",
    "for pt in int_pts2:\n",
    "    MPS_SV.append(pt)\n",
    "    MPS_SVI.append(pt)\n",
    "MPS_SV = sorted(MPS_SV)\n",
    "MPS_SVI = sorted(MPS_SVI)"
   ]
  },
  {
   "cell_type": "code",
   "execution_count": 163,
   "metadata": {},
   "outputs": [],
   "source": [
    "# Create new points for graphing the area between the curves. \n",
    "# They include the intersection points, but only for the purpose of being able to use \"fill_betweenx\".\n",
    "MPSx = [point[0] for point in MPS_SV]\n",
    "MPSy = [point[1] for point in MPS_SV]\n",
    "\n",
    "MPSIx = [point[0] for point in MPS_SVI]\n",
    "MPSIy = [point[1] for point in MPS_SVI]\n",
    "\n",
    "# Note that MPSy and MPSIy are basically the same."
   ]
  },
  {
   "cell_type": "code",
   "execution_count": 164,
   "metadata": {},
   "outputs": [],
   "source": [
    "############# ORIGINAL ###############\n",
    "\n",
    "#plt.figure(figsize=(10,10))\n",
    "#plt.xlim(0,1)\n",
    "#plt.ylim(0,1)\n",
    "#plt.plot(MPS_x_vals, MPS_y_vals)\n",
    "##plt.plot(MPS_x_vals, MPS_y_vals, 'o-')\n",
    "#plt.plot(MPS_Inv_x_vals, MPS_Inv_y_vals, color=\"r\")\n",
    "##plt.plot(MPS_Inv_x_vals, MPS_Inv_y_vals, 'o-', color=\"r\")\n",
    "#plt.title('Modified Partisan Swing Assumption')\n",
    "#plt.show()\n",
    "\n",
    "######################################"
   ]
  },
  {
   "cell_type": "code",
   "execution_count": 165,
   "metadata": {},
   "outputs": [
    {
     "data": {
      "image/png": "[encoded data removed]",
      "text/plain": [
       "<Figure size 504x504 with 1 Axes>"
      ]
     },
     "metadata": {
      "needs_background": "light"
     },
     "output_type": "display_data"
    }
   ],
   "source": [
    "# PLOT THE INVERSE\n",
    "\n",
    "fig = plt.figure(figsize=(7,7))\n",
    "ax = fig.add_subplot(1,1,1)\n",
    "\n",
    "major_ticks = np.arange(0, 1.1, .2)\n",
    "minor_ticks = np.arange(0, 1.1, .1)\n",
    "\n",
    "ax.set_xticks(major_ticks)\n",
    "ax.set_xticks(minor_ticks, minor=True)\n",
    "ax.set_yticks(major_ticks)\n",
    "ax.set_yticks(minor_ticks, minor=True)\n",
    "ax.grid(which='minor', alpha=0.4)\n",
    "ax.grid(which='major', alpha=0.5)\n",
    "\n",
    "plt.xlabel(\"Statewide Average District Vote V\", fontsize=14)\n",
    "plt.ylabel(\"Estimated Statewide Seat Proportion $\\widehat{S}$(V)\", fontsize=14)\n",
    "plt.xlim(-.01,1.01)\n",
    "plt.ylim(-.01,1.01)\n",
    "\n",
    "plt.plot(MPS_x_vals, MPS_y_vals, color='#E68213', label='$\\widehat{S}$(V)')\n",
    "plt.plot(MPS_Inv_x_vals, MPS_Inv_y_vals, color='#E68213', linestyle='--',label='$\\widehat{S}^{-1}$(V)')\n",
    "\n",
    "#plt.fill_betweenx(MPSy,MPSx,MPSIx,color='#A9A9A9',alpha=0.6,label='$B_{G,V}$')\n",
    "plt.fill_betweenx(MPSy,MPSx,MPSIx,color='#E6C7A5',alpha=0.6,label='$B_{G}$')\n",
    "\n",
    "#plt.title('2018 Pennsylvania Congressional Map \\n Geometric Bias under Variable Partisan Swing', fontsize=14)\n",
    "plt.title('2011 SC Senate Map ($B_G=0.0392$)', fontsize=16)\n",
    "plt.grid(True)\n",
    "plt.legend(fontsize=12)\n",
    "plt.savefig('C:/Users/Anna Marie Vagnozzi/Dropbox/Masters_Research/Publishing/spp_template/SC2011_Senate.pdf')\n",
    "#plt.savefig('C:/Users/avagnoz/Dropbox/Masters_Research/2021_Redistricting_Group/partisan_bias_analysis/InputSCCong_Proposed.PNG')\n",
    "plt.show()"
   ]
  },
  {
   "cell_type": "code",
   "execution_count": 166,
   "metadata": {},
   "outputs": [],
   "source": [
    "# Calculate total area under the SV and Inverse SV curves.\n",
    "total_area2 = 0\n",
    "\n",
    "# 'Integrate' with respect to y\n",
    "xmax2 = max(MPS_SV[-1][0], MPS_SVI[-1][0])\n",
    "\n",
    "for i in range(len(MPS_SV)-1):\n",
    "    # Area under Seats-Votes curve\n",
    "    b1 = xmax2 - MPS_SV[i][0]\n",
    "    b2 = xmax2 - MPS_SV[i+1][0]\n",
    "    h = MPS_SV[i+1][1] - MPS_SV[i][1]\n",
    "    area1 = 0.5 * (b1 + b2) * h\n",
    "    \n",
    "    # Area under Inverted Seats-Votes curve\n",
    "    ib1 = xmax2 - MPS_SVI[i][0]\n",
    "    ib2 = xmax2 - MPS_SVI[i+1][0]\n",
    "    ih = MPS_SVI[i+1][1] - MPS_SVI[i][1]\n",
    "    area2 = 0.5 * (ib1 + ib2) * ih\n",
    "    \n",
    "    total_area2 += abs(area2 - area1)"
   ]
  },
  {
   "cell_type": "code",
   "execution_count": 167,
   "metadata": {},
   "outputs": [
    {
     "name": "stdout",
     "output_type": "stream",
     "text": [
      "Under the MPS assumption, B_G = 0.039202996835482146 or 3.92%\n"
     ]
    }
   ],
   "source": [
    "BG_MPS = total_area2\n",
    "print(\"Under the MPS assumption, B_G = \" + str(BG_MPS) + \" or \" + str(round(BG_MPS*100,2)) + \"%\")"
   ]
  },
  {
   "cell_type": "code",
   "execution_count": null,
   "metadata": {},
   "outputs": [],
   "source": []
  },
  {
   "cell_type": "code",
   "execution_count": null,
   "metadata": {},
   "outputs": [],
   "source": []
  }
 ],
 "metadata": {
  "kernelspec": {
   "display_name": "Python 3 (ipykernel)",
   "language": "python",
   "name": "python3"
  },
  "language_info": {
   "codemirror_mode": {
    "name": "ipython",
    "version": 3
   },
   "file_extension": ".py",
   "mimetype": "text/x-python",
   "name": "python",
   "nbconvert_exporter": "python",
   "pygments_lexer": "ipython3",
   "version": "3.9.12"
  }
 },
 "nbformat": 4,
 "nbformat_minor": 2
}
