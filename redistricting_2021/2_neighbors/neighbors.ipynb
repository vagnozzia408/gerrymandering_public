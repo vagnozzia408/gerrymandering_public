{
 "cells": [
  {
   "cell_type": "code",
   "execution_count": 1,
   "metadata": {},
   "outputs": [],
   "source": [
    "# Import necessary libraries.\n",
    "import io\n",
    "import csv"
   ]
  },
  {
   "cell_type": "code",
   "execution_count": 2,
   "metadata": {},
   "outputs": [],
   "source": [
    "# Open the CSV file containing the clockwise point data.\n",
    "# This is created in ArcGIS Pro by Tabulating the Intersection of precinct lines and point features.\n",
    "\n",
    "# TO DO: Set the filepath for the CSV file.\n",
    "infile = io.open(\"C:/Users/avagnoz/Desktop/Updated_Precinct_Cleaning/neighbors/SC2021_clockwise_data.csv\",newline='')\n",
    "reader = csv.reader(infile)\n",
    "header = next(reader)\n",
    "\n",
    "# Read in SRC_PSN (line), NBR_PSN (line), Shape_Length (line), PSN (point), CLCKWS_IDX (point).\n",
    "# TO DO: Adjust column numbers as needed.\n",
    "clockwise_data = [[eval(row[1]),eval(row[2]),eval(row[3]),eval(row[4]),eval(row[5])] for row in reader]\n",
    "infile.close()\n",
    "\n",
    "# TO DO: Make sure the total number of records matches the files generated in ArcMap.\n",
    "assert(len(clockwise_data)==2728766)"
   ]
  },
  {
   "cell_type": "code",
   "execution_count": 3,
   "metadata": {},
   "outputs": [
    {
     "name": "stdout",
     "output_type": "stream",
     "text": [
      "TEST: Clockwise precinct data read correctly...\n",
      "SRC_PSN, NBR_PSN, Shape_Length, PSN, CLCKWS_IDX\n",
      "[-1, 6, 0.145945998570424, -1.0, 1321156]\n",
      "[-1, 6, 0.145945998570424, -1.0, 1321157]\n",
      "[-1, 6, 0.145945998570424, -1.0, 1321158]\n",
      "[-1, 6, 0.145945998570424, -1.0, 1321159]\n",
      "[-1, 6, 0.145945998570424, -1.0, 1321160]\n",
      "\n"
     ]
    }
   ],
   "source": [
    "## TEST ##\n",
    "print(\"TEST: Clockwise precinct data read correctly...\")\n",
    "print(\"SRC_PSN, NBR_PSN, Shape_Length, PSN, CLCKWS_IDX\")\n",
    "for i in range(5):\n",
    "    print(clockwise_data[i])\n",
    "print(\"\")"
   ]
  },
  {
   "cell_type": "code",
   "execution_count": 4,
   "metadata": {},
   "outputs": [],
   "source": [
    "# We only care about instances where SRC_PSN and PSN are the same.\n",
    "# SRC_PSN is the source precinct with respect to the line segment.\n",
    "# PSN is the source precinct with respect to the point.\n",
    "\n",
    "# Clean the data frame to only keep instances where SRC_PSN == PSN.\n",
    "clockwise_data_cleaned = list()\n",
    "\n",
    "for line in clockwise_data:\n",
    "    # If the source precincts match...\n",
    "    if line[0] == line[3]:\n",
    "        # Include SRC_PSN, NBR_PSN, Shared_Perim, and CLCKWS_IDX in one line of data.\n",
    "        clockwise_data_cleaned.append([line[0],line[1],line[2],line[4]])"
   ]
  },
  {
   "cell_type": "code",
   "execution_count": 6,
   "metadata": {},
   "outputs": [
    {
     "name": "stdout",
     "output_type": "stream",
     "text": [
      "TEST: Clockwise data cleaned properly...\n",
      "SRC_PSN, NBR_PSN, Shared_Perim, CLCKWS_IDX\n",
      "[-1, 6, 0.145945998570424, 1321156]\n",
      "[-1, 6, 0.145945998570424, 1321157]\n",
      "[-1, 6, 0.145945998570424, 1321158]\n",
      "[-1, 6, 0.145945998570424, 1321159]\n",
      "[-1, 6, 0.145945998570424, 1321160]\n",
      "\n"
     ]
    }
   ],
   "source": [
    "## TEST ##\n",
    "print(\"TEST: Clockwise data cleaned properly...\")\n",
    "print(\"SRC_PSN, NBR_PSN, Shared_Perim, CLCKWS_IDX\")\n",
    "for i in range(5):\n",
    "    print(clockwise_data_cleaned[i])\n",
    "print(\"\")\n",
    "#print(\"Number of lines: \" + str(len(clockwise_data_cleaned)))"
   ]
  },
  {
   "cell_type": "code",
   "execution_count": 7,
   "metadata": {},
   "outputs": [],
   "source": [
    "# Write the cleaned data to a CSV file for easy reference.\n",
    "# TO DO: Set the appropriate filepath.\n",
    "outfile1 = open(\"C:/Users/avagnoz/Desktop/Updated_Precinct_Cleaning/neighbors/SC2021_clockwise_data_cleaned.csv\",'w',newline=\"\")\n",
    "writer1 = csv.writer(outfile1)\n",
    "writer1.writerow([\"SRC_PSN\",\"NBR_PSN\",\"Shared_Perim\",\"CLCKWS_IDX\"])\n",
    "\n",
    "for row in clockwise_data_cleaned:\n",
    "    writer1.writerow(row)\n",
    "    \n",
    "outfile1.close()"
   ]
  },
  {
   "cell_type": "code",
   "execution_count": 8,
   "metadata": {
    "scrolled": true
   },
   "outputs": [],
   "source": [
    "# Create a dictionary of clockwise points along each line segment.\n",
    "# Keys: (SRC_PSN, NBR_PSN, Shared_Perim) - uniquely identifies a line segment.\n",
    "# Values: [CLCKWS_IDX 1, CLCKWS_IDX 2, ...] - list of clockwise indices for the points along the line segment.\n",
    "\n",
    "# The length of each line segment is also the length of the shared perimeter between SRC_PSN and NBR_PSN.\n",
    "# Points are clocwise with respect to the source precinct.\n",
    "# Note that due to the way ArcMap generates the file, \"node neighbors\" (neighbors only at a point) are not included.\n",
    "\n",
    "clockwise_dict = dict()\n",
    "\n",
    "for line in clockwise_data_cleaned:\n",
    "    SRC_PSN = line[0]\n",
    "    NBR_PSN = line[1]\n",
    "    Shared_Perim = line[2]\n",
    "    CLCKWS_IDX = line[3]\n",
    "    \n",
    "    # Create the unique line segment key.\n",
    "    line_seg = (SRC_PSN, NBR_PSN, Shared_Perim)\n",
    "    \n",
    "    # If the line segment is already stored in the dictionary...\n",
    "    if line_seg in clockwise_dict:\n",
    "        # Add the clockwise ID in this line to the key's value list.\n",
    "        clockwise_dict[line_seg].append(CLCKWS_IDX)\n",
    "    # If this is the first time we've seen this line segment...\n",
    "    # i.e. if line_seg not in clockwise_dict:\n",
    "    else:\n",
    "        # Add the line segment key to the dictionary and add the clockwise ID to its value list.\n",
    "        clockwise_dict[line_seg] = [CLCKWS_IDX]\n",
    "        \n",
    "# TO DO: Set this assertion statement to the number of line segments.\n",
    "# If an error occurs, it's likely due to a mapping error in the shapefile boundaries, implying that there are gaps, slivers, or overlaps.\n",
    "#print(\"Number of Line Segments?\")\n",
    "#print(len(clockwise_dict))\n",
    "assert(len(clockwise_dict)==13532)"
   ]
  },
  {
   "cell_type": "code",
   "execution_count": 9,
   "metadata": {},
   "outputs": [
    {
     "name": "stdout",
     "output_type": "stream",
     "text": [
      "TEST: Clockwise dictionary created properly...\n",
      "Line Segment: List of Clockwise Indices\n",
      "\n",
      "(-1, 6, 0.145945998570424): [1321156, 1321157, 1321158, 1321159, 1321160, 1321161, 1321162, 1321163, 1321164, 1321165, 1321166, 1321167, 1321168, 1321169, 1321170, 1321171, 1321172, 1321173, 1321174, 1321175, 1321176, 1321177, 1321178, 1321179, 1321180, 1321181, 1321182, 1321183, 1321184, 1321185, 1321186, 1321187, 1321188, 1321189, 1321190, 1321191, 1321192, 1321193, 1321194, 1321195, 1321196, 1321197, 1321198, 1321199, 1321200, 1321201, 1321202, 1321203, 1321204, 1321205, 1321206, 1321207, 1321208, 1321209, 1321210, 1321211, 1321212, 1321213, 1321214, 1321215, 1321216, 1321217, 1321218, 1321219, 1321220, 1321221, 1321222, 1321223, 1321224, 1321225, 1321226, 1321227, 1321228, 1321229, 1321230, 1321231, 1321232, 1321233, 1321234, 1321235, 1321236, 1321237, 1321238, 1321239, 1321240, 1321241, 1321242, 1321243, 1321244, 1321245, 1321246, 1321247, 1321248, 1321249, 1321250, 1321251, 1321252, 1321253, 1321254, 1321255, 1321256, 1321257, 1321258, 1321259, 1321260, 1321261, 1321262, 1321263, 1321264, 1321265, 1321266, 1321267, 1321268, 1321269, 1321270, 1321271, 1321272, 1321273, 1321274, 1321275, 1321276, 1321277, 1321278, 1321279, 1321280, 1321281, 1321282, 1321283, 1321284, 1321285, 1321286, 1321287, 1321288, 1321289, 1321290, 1321291, 1321292, 1321293, 1321294, 1321295, 1321296, 1321297, 1321298, 1321299, 1321300, 1321301, 1321302, 1321303, 1321304, 1321305, 1321306, 1321307, 1321308, 1321309, 1321310, 1321311, 1321312, 1321313, 1321314, 1321315, 1321316, 1321317, 1321318, 1321319, 1321320, 1321321, 1321322, 1321323, 1321324, 1321325, 1321326, 1321327, 1321328, 1321329, 1321330, 1321331, 1321332, 1321333, 1321334, 1321335, 1321336, 1321337, 1321338, 1321339, 1321340, 1321341, 1321342, 1321343, 1321344, 1321345, 1321346, 1321347, 1321348, 1321349, 1321350, 1321351, 1321352, 1321353, 1321354, 1321355, 1321356, 1321357, 1321358, 1321359, 1321360, 1321361, 1321362, 1321363, 1321364, 1321365, 1321366, 1321367, 1321368, 1321369, 1321370, 1321371, 1321372, 1321373, 1321374, 1321375, 1321376, 1321377, 1321378, 1321379, 1321380, 1321381, 1321382, 1321383, 1321384, 1321385, 1321386, 1321387, 1321388, 1321389, 1321390, 1321391, 1321392, 1321393, 1321394, 1321395, 1321396, 1321397, 1321398, 1321399, 1321400, 1321401, 1321402, 1321403, 1321404, 1321405, 1321406, 1321407, 1321408, 1321409, 1321410, 1321411, 1321412, 1321413, 1321414, 1321415, 1321416, 1321417, 1321418, 1321419, 1321420, 1321421, 1321422, 1321423, 1321424, 1321425, 1321426, 1321427, 1321428, 1321429, 1321430, 1321431, 1321432, 1321433, 1321434, 1321435, 1321436, 1321437, 1321438, 1321439, 1321440, 1321441, 1321442, 1321443, 1321444, 1321445, 1321446, 1321447, 1321448, 1321449, 1321450, 1321451, 1321452, 1321453, 1321454, 1321455, 1321456, 1321457, 1321458, 1321459, 1321460, 1321461, 1321462, 1321463, 1321464, 1321465, 1321466, 1321467, 1321468, 1321469, 1321470, 1321471, 1321472, 1321473, 1321474, 1321475, 1321476, 1321477, 1321478, 1321479, 1321480, 1321481, 1321482, 1321483, 1321484, 1321485, 1321486, 1321487, 1321488, 1321489, 1321490, 1321491, 1321492, 1321493, 1321494, 1321495, 1321496, 1321497, 1321498, 1321499, 1321500, 1321501, 1321502, 1321503, 1321504, 1321505, 1321506, 1321507, 1321508, 1321509, 1321510, 1321511, 1321512, 1321513, 1321514, 1321515, 1321516, 1321517, 1321518, 1321519, 1321520, 1321521, 1321522, 1321523, 1321524, 1321525, 1321526, 1321527, 1321528, 1321529, 1321530, 1321531, 1321532, 1321533, 1321534, 1321535, 1321536, 1321537, 1321538, 1321539, 1321540, 1321541, 1321542, 1321543, 1321544, 1321545, 1321546, 1321547, 1321548, 1321549, 1321550, 1321551, 1321552, 1321553, 1321554, 1321555, 1321556, 1321557, 1321558, 1321559, 1321560, 1321561, 1321562, 1321563, 1321564, 1321565, 1321566, 1321567, 1321568, 1321569, 1321570, 1321571, 1321572, 1321573, 1321574, 1321575, 1321576, 1321577, 1321578, 1321579, 1321580, 1321581, 1321582, 1321583, 1321584, 1321585, 1321586, 1321587, 1321588, 1321589, 1321590, 1321591, 1321592, 1321593, 1321594, 1321595, 1321596]\n",
      "\n",
      "(-1, 13, 0.132037187075853): [1320981, 1320982, 1320983, 1320984, 1320985, 1320986, 1320987, 1320988, 1320989, 1320990, 1320991, 1320992, 1320993, 1320994, 1320995, 1320996, 1320997, 1320998, 1320999, 1321000, 1321001, 1321002, 1321003, 1321004, 1321005, 1321006, 1321007, 1321008, 1321009, 1321010, 1321011, 1321012, 1321013, 1321014, 1321015, 1321016, 1321017, 1321018, 1321019, 1321020, 1321021, 1321022, 1321023, 1321024, 1321025, 1321026, 1321027, 1321028, 1321029, 1321030, 1321031, 1321032, 1321033, 1321034, 1321035, 1321036, 1321037, 1321038, 1321039, 1321040, 1321041, 1321042, 1321043, 1321044, 1321045, 1321046, 1321047, 1321048, 1321049, 1321050, 1321051, 1321052, 1321053, 1321054, 1321055, 1321056, 1321057, 1321058, 1321059, 1321060, 1321061, 1321062, 1321063, 1321064, 1321065, 1321066, 1321067, 1321068, 1321069, 1321070, 1321071, 1321072, 1321073, 1321074, 1321075, 1321076, 1321077, 1321078, 1321079, 1321080, 1321081, 1321082, 1321083, 1321084, 1321085, 1321086, 1321087, 1321088, 1321089, 1321090, 1321091, 1321092, 1321093, 1321094, 1321095, 1321096, 1321097, 1321098, 1321099, 1321100, 1321101, 1321102, 1321103, 1321104, 1321105, 1321106, 1321107, 1321108, 1321109, 1321110, 1321111, 1321112, 1321113, 1321114, 1321115, 1321116, 1321117, 1321118, 1321119, 1321120, 1321121, 1321122, 1321123, 1321124, 1321125, 1321126, 1321127, 1321128, 1321129, 1321130, 1321131, 1321132, 1321133, 1321134, 1321135, 1321136, 1321137, 1321138, 1321139, 1321140, 1321141, 1321142, 1321143, 1321144, 1321145, 1321146, 1321147, 1321148, 1321149, 1321150, 1321151, 1321152, 1321153, 1321154, 1321155, 1321156]\n",
      "\n",
      "(-1, 26, 0.083109889025463): [1322574, 1322575, 1322576, 1322577, 1322578, 1322579, 1322580, 1322581, 1322582, 1322583, 1322584, 1322585, 1322586, 1322587, 1322588, 1322589, 1322590, 1322591, 1322592, 1322593, 1322594, 1322595, 1322596, 1322597, 1322598, 1322599, 1322600, 1322601, 1322602, 1322603, 1322604, 1322605, 1322606, 1322607, 1322608, 1322609, 1322610, 1322611, 1322612, 1322613, 1322614, 1322615, 1322616, 1322617, 1322618, 1322619, 1322620, 1322621, 1322622, 1322623, 1322624, 1322625, 1322626, 1322627, 1322628, 1322629, 1322630, 1322631, 1322632, 1322633, 1322634, 1322635, 1322636, 1322637, 1322638, 1322639, 1322640, 1322641, 1322642, 1322643, 1322644, 1322645, 1322646, 1322647, 1322648, 1322649, 1322650, 1322651, 1322652, 1322653, 1322654, 1322655, 1322656, 1322657, 1322658, 1322659, 1322660, 1322661, 1322662, 1322663, 1322664, 1322665, 1322666, 1322667, 1322668, 1322669, 1322670, 1322671, 1322672, 1322673, 1322674, 1322675, 1322676, 1322677, 1322678, 1322679, 1322680, 1322681, 1322682, 1322683]\n",
      "\n",
      "(-1, 26, 0.108488691722538): [1322683, 1322684, 1322685, 1322686, 1322687, 1322688, 1322689, 1322690, 1322691, 1322692, 1322693, 1322694, 1322695, 1322696, 1322697, 1322698, 1322699, 1322700, 1322701, 1322702, 1322703, 1322704, 1322705, 1322706, 1322707, 1322708, 1322709, 1322710, 1322711, 1322712, 1322713, 1322714, 1322715, 1322716, 1322717, 1322718, 1322719, 1322720, 1322721, 1322722, 1322723, 1322724, 1322725, 1322726, 1322727, 1322728, 1322729, 1322730, 1322731, 1322732, 1322733, 1322734, 1322735, 1322736, 1322737, 1322738, 1322739, 1322740, 1322741, 1322742, 1322743, 1322744, 1322745, 1322746, 1322747, 1322748, 1322749, 1322750, 1322751, 1322752, 1322753, 1322754, 1322755, 1322756, 1322757, 1322758, 1322759, 1322760, 1322761, 1322762, 1322763, 1322764, 1322765, 1322766, 1322767, 1322768, 1322769, 1322770, 1322771, 1322772, 1322773, 1322774, 1322775, 1322776, 1322777, 1322778, 1322779, 1322780, 1322781, 1322782, 1322783, 1322784, 1322785, 1322786, 1322787, 1322788, 1322789, 1322790, 1322791, 1322792, 1322793, 1322794, 1322795, 1322796, 1322797, 1322798, 1322799, 1322800, 1322801, 1322802, 1322803, 1322804, 1322805, 1322806, 1322807, 1322808, 1322809, 1322810, 1322811, 1322812, 1322813, 1322814, 1322815, 1322816, 1322817, 1322818, 1322819, 1322820, 1322821, 1322822, 1322823, 1322824, 1322825, 1322826, 1322827, 1322828, 1322829, 1322830, 1322831, 1322832, 1322833, 1322834, 1322835, 1322836, 1322837, 1322838, 1322839, 1322840, 1322841, 1322842, 1322843, 1322844, 1322845, 1322846, 1322847, 1322848, 1322849, 1322850, 1322851, 1322852, 1322853, 1322854, 1322855, 1322856, 1322857, 1322858, 1322859]\n",
      "\n",
      "(-1, 32, 0.035552391488576): [1322538, 1322539, 1322540, 1322541, 1322542, 1322543, 1322544, 1322545, 1322546, 1322547, 1322548, 1322549, 1322550, 1322551, 1322552, 1322553, 1322554, 1322555, 1322556, 1322557, 1322558, 1322559, 1322560, 1322561, 1322562, 1322563, 1322564, 1322565, 1322566, 1322567, 1322568, 1322569, 1322570, 1322571, 1322572, 1322573, 1322574]\n",
      "\n"
     ]
    }
   ],
   "source": [
    "## TEST ##\n",
    "# Note: clockwise_dict.items() returns a dict_items object with (key,value) pairs\n",
    "print(\"TEST: Clockwise dictionary created properly...\")\n",
    "print(\"Line Segment: List of Clockwise Indices\")\n",
    "print(\"\")\n",
    "for i in range(5):\n",
    "    print(str(list(clockwise_dict.items())[i][0]) + \": \" + str(list(clockwise_dict.items())[i][1]))\n",
    "    print(\"\")"
   ]
  },
  {
   "cell_type": "code",
   "execution_count": 10,
   "metadata": {},
   "outputs": [],
   "source": [
    "# Ensure that clockwise indices are sorted in increasing order for each neighbor.\n",
    "for line_seg in clockwise_dict:\n",
    "    clockwise_dict[line_seg] = sorted(clockwise_dict[line_seg])"
   ]
  },
  {
   "cell_type": "code",
   "execution_count": 11,
   "metadata": {},
   "outputs": [],
   "source": [
    "# \"Problem segments\" in this algorithm are those with only two vertices which are NOT sequential.\n",
    "# Identify any problem segments. If nothing happens, everything is fine and the algorithm will work.\n",
    "\n",
    "problem_segments = list()\n",
    "\n",
    "for line_seg in clockwise_dict:\n",
    "    # If there are only two vertices AND they are not sequential...\n",
    "    if len(clockwise_dict[line_seg])==2 and (clockwise_dict[line_seg][1]-clockwise_dict[line_seg][0]) != 1:\n",
    "        # Keep a record of this problem segment.\n",
    "        problem_segments.append(line_seg)\n",
    "\n",
    "assert(len(problem_segments)==0)"
   ]
  },
  {
   "cell_type": "code",
   "execution_count": 12,
   "metadata": {},
   "outputs": [],
   "source": [
    "# Check that EITHER of the following (but not both) is true:\n",
    "# First and last indices are off by more than one\n",
    "# Last two indices are off by more than one\n",
    "\n",
    "# I haven't actually proved this, but I have reason to believe that these\n",
    "# two clockwise indices are duplicates of endpoints and one can be deleted.\n",
    "\n",
    "for line_seg in clockwise_dict:\n",
    "    idx_list = clockwise_dict[line_seg]\n",
    "    n = len(idx_list)\n",
    "    if idx_list[1]-idx_list[0]!=1 and idx_list[n-1]-idx_list[n-2]!=1:\n",
    "        print(str(line_seg) + \": \" + str(idx_list))"
   ]
  },
  {
   "cell_type": "code",
   "execution_count": 13,
   "metadata": {},
   "outputs": [],
   "source": [
    "# If nothing printed, then delete any duplicate endpoints.\n",
    "\n",
    "for line_seg in clockwise_dict:\n",
    "    # Store the list of clockwise indices for the given line segment.\n",
    "    index_list = clockwise_dict[line_seg]\n",
    "    # Store the number of clockwise indices for the line segment.\n",
    "    n = len(index_list)\n",
    "    \n",
    "    # If the first two indices are not sequential...\n",
    "    if index_list[1] - index_list[0] != 1:\n",
    "        # The first one is a duplicate point and can be deleted.\n",
    "        del index_list[0]\n",
    "        assert(len(index_list) == n-1)\n",
    "    # If the last two indices are not sequential...\n",
    "    elif index_list[n-1] - index_list[n-2] != 1:\n",
    "        # The last one is a duplicate point and can be deleted.\n",
    "        del index_list[n-1]\n",
    "        assert(len(index_list) == n-1)\n",
    "    # Otherwise, everything is good to go...\n",
    "    else:\n",
    "        # So do nothing!\n",
    "        pass"
   ]
  },
  {
   "cell_type": "code",
   "execution_count": 14,
   "metadata": {},
   "outputs": [],
   "source": [
    "## TEST ##\n",
    "# We can test to make sure that there are no weird endpoints.\n",
    "#for item in sorted(clockwise_dict.items()):\n",
    "#    print(str(item[0]) + \": \" + str(item[1]))\n",
    "#    print(\"\")"
   ]
  },
  {
   "cell_type": "code",
   "execution_count": 15,
   "metadata": {},
   "outputs": [],
   "source": [
    "# Now we need the endpoints for each line segment so we can match them.\n",
    "# Keys: SRC_PSN - source precincts\n",
    "# Values: (NBR_PSN, Shared_Perim, First_Endpoint, Last_Endpoint)\n",
    "\n",
    "endpoint_dict = dict()\n",
    "\n",
    "for line_seg in clockwise_dict:\n",
    "    SRC_PSN = line_seg[0]\n",
    "    NBR_PSN = line_seg[1]\n",
    "    perim = line_seg[2]\n",
    "    \n",
    "    idx_list = clockwise_dict[line_seg]\n",
    "    \n",
    "    first_endpt = idx_list[0]\n",
    "    last_endpt = idx_list[-1]\n",
    "    \n",
    "    assert(last_endpt>first_endpt)\n",
    "    \n",
    "    if SRC_PSN in endpoint_dict:\n",
    "        endpoint_dict[SRC_PSN].append((NBR_PSN, perim, first_endpt, last_endpt))\n",
    "    else:\n",
    "        endpoint_dict[SRC_PSN] = [(NBR_PSN, perim, first_endpt, last_endpt)]"
   ]
  },
  {
   "cell_type": "code",
   "execution_count": 17,
   "metadata": {
    "scrolled": true
   },
   "outputs": [
    {
     "name": "stdout",
     "output_type": "stream",
     "text": [
      "TEST: Endpoint dictionary created properly...\n",
      "Source Precinct: List of Neighboring Segments\n",
      "\n",
      "-1: [(6, 0.145945998570424, 1321156, 1321596), (13, 0.132037187075853, 1320981, 1321156), (26, 0.083109889025463, 1322574, 1322683), (26, 0.108488691722538, 1322683, 1322859), (32, 0.035552391488576, 1322538, 1322574), (46, 0.221080863867295, 1322859, 1323410), (49, 0.2230487779891, 1323410, 1324181), (62, 0.019603853259985, 1322517, 1322538), (66, 0.022424013853071, 1322505, 1322517), (69, 0.046708206963797, 1322415, 1322505), (89, 0.116006479519838, 1324181, 1324367), (103, 0.473083892272912, 1325008, 1325393), (104, 0.318524018889001, 1324727, 1324920), (107, 0.106841699784156, 1324920, 1325008), (142, 0.174616141767706, 1319587, 1320139), (156, 0.158775070437117, 1320404, 1320981), (170, 0.035567543601743, 1320139, 1320218), (182, 0.096675265318244, 1320218, 1320404), (212, 0.233233608495941, 1324367, 1324727), (251, 0.075771797222122, 1329297, 1329323), (268, 0.032972162295632, 1329361, 1329373), (269, 0.064154000864387, 1329332, 1329361), (270, 0.020847011058718, 1329323, 1329332), (296, 0.41164557384692, 1329373, 1329458), (419, 0.237914764824656, 1329643, 1329695), (448, 0.042497960533329, 1329486, 1329494), (449, 0.048162745572081, 1329543, 1329556), (450, 0.145750202270599, 1329556, 1329577), (451, 0.02803815049561, 1329585, 1329593), (453, 0.111310464537994, 1329593, 1329624), (480, 0.028555397236298, 1329499, 1329508), (480, 0.224121791558825, 1329508, 1329543), (483, 0.240550766179471, 1329695, 1329750), (514, 0.058159252150612, 1329624, 1329643), (597, 0.029070503406212, 1329577, 1329585), (598, 0.037945356637011, 1329494, 1329499), (603, 0.015291061152544, 1331597, 1331604), (603, 0.060927048387933, 1331581, 1331597), (604, 0.050798598472763, 1331701, 1331714), (616, 0.066022829159164, 1331677, 1331694), (617, 0.166947286354569, 1331604, 1331677), (621, 0.099803002319372, 1331714, 1331768), (629, 0.04870707171063, 1331694, 1331701), (654, 0.085879568144565, 1330702, 1330719), (656, 0.062241491940518, 1330787, 1330804), (662, 0.144575412926143, 1330838, 1330899), (667, 0.120363867028763, 1330769, 1330787), (670, 0.076584223409565, 1330804, 1330838), (673, 0.032891382984205, 1330763, 1330769), (675, 0.111878565864949, 1330719, 1330763), (707, 0.128460901155551, 1329458, 1329486), (766, 0.109473905113491, 1330557, 1330579), (770, 0.055305989453738, 1330454, 1330476), (772, 0.170146023211114, 1330302, 1330442), (780, 0.064983009211166, 1330476, 1330557), (781, 0.097318512864777, 1330442, 1330454), (871, 0.128601029273794, 1322322, 1322415), (979, 0.043424301145056, 1329810, 1329815), (980, 0.110982546194869, 1329815, 1329826), (982, 0.01013880869105, 1329808, 1329810), (984, 0.091488065615636, 1329803, 1329808), (985, 0.21159764825809, 1329777, 1329803), (993, 0.251141635055524, 1329750, 1329777), (1033, 0.062683160489378, 1331929, 1331958), (1063, 1.6000737869e-05, 1314895, 1314896), (1063, 0.001835043917357, 1314890, 1314895), (1063, 0.020187312457473, 1332320, 1332378), (1063, 0.621044378243503, 1314896, 1316479), (1130, 0.153577024894953, 1331958, 1332320), (1203, 0.423498682880687, 1325393, 1325843), (1205, 0.071326969205862, 1325843, 1325973), (1217, 0.004293687785681, 1329912, 1329913), (1221, 0.045008688910287, 1330042, 1330061), (1231, 0.206733412026104, 1329931, 1329981), (1232, 0.020699943667638, 1329981, 1330015), (1234, 0.011400037669245, 1329862, 1329866), (1237, 0.02065320299555, 1329913, 1329915), (1242, 0.023208255272414, 1329883, 1329888), (1243, 0.054226175557818, 1329888, 1329902), (1244, 0.006534140662728, 1329902, 1329905), (1246, 0.043371548169912, 1330115, 1330145), (1247, 0.080054732698916, 1330061, 1330071), (1260, 0.092294987473151, 1330190, 1330236), (1268, 0.072021977440692, 1330145, 1330190), (1269, 0.036221282201046, 1329844, 1329855), (1270, 0.017927988864466, 1329836, 1329844), (1278, 0.055103501469503, 1330015, 1330042), (1290, 0.016037794924316, 1329866, 1329870), (1291, 0.004282627521605, 1329870, 1329873), (1298, 0.026563872756702, 1329915, 1329922), (1299, 0.019396670178374, 1329922, 1329931), (1300, 0.03897291832734, 1329873, 1329883), (1315, 0.014881570003145, 1329855, 1329862), (1323, 0.154294796814255, 1330236, 1330302), (1324, 0.00057885566817, 1329826, 1329828), (1325, 0.012671735321746, 1329828, 1329831), (1327, 0.043298209529822, 1329831, 1329836), (1328, 0.108557059837823, 1330071, 1330115), (1337, 0.022801867989648, 1329905, 1329912), (1345, 0.189475758076741, 1327831, 1328763), (1346, 0.716867318998068, 1328763, 1329297), (1348, 0.051066366698019, 1325973, 1326197), (1353, 0.376876120510212, 1326197, 1327831), (1389, 0.057856826807463, 1331092, 1331125), (1400, 0.077683023383396, 1331128, 1331170), (1403, 0.00829905884961, 1330961, 1330964), (1403, 0.062245798764417, 1330964, 1331000), (1411, 0.078199641240831, 1331024, 1331066), (1413, 0.005014517446721, 1331125, 1331128), (1418, 0.037792532720474, 1331066, 1331092), (1419, 0.064588636716547, 1330899, 1330922), (1421, 0.100669766613155, 1330922, 1330961), (1423, 0.048257646546293, 1331000, 1331024), (1576, 0.171417990053215, 1322149, 1322322), (1578, 0.018672777141961, 1321865, 1321885), (1579, 0.050244673713691, 1322088, 1322149), (1581, 0.111076981374458, 1321596, 1321710), (1582, 0.055568858842416, 1322020, 1322088), (1583, 0.092596217703359, 1321885, 1322020), (1584, 0.171269601214287, 1321729, 1321865), (1585, 0.047499209596723, 1321710, 1321729), (1603, 0.147294492310624, 1330622, 1330660), (1605, 0.056923049976497, 1330660, 1330672), (1607, 0.037540545468968, 1330579, 1330588), (1609, 0.000683104858644, 1330621, 1330622), (1609, 0.096977561953598, 1330588, 1330621), (1611, 0.039013964131607, 1330672, 1330675), (1616, 0.164305192129725, 1330675, 1330702), (1647, 0.085353672102563, 1319432, 1319587), (1651, 0.432517607383183, 1317905, 1318839), (1652, 0.136552621698443, 1318839, 1319053), (1653, 0.172039144203577, 1317398, 1317905), (1653, 0.289751891998876, 1316767, 1317398), (1660, 0.125663289639878, 1316693, 1316748), (1666, 0.067717553876586, 1319334, 1319432), (1668, 0.038493912479317, 1316748, 1316767), (1674, 0.164373623606354, 1319053, 1319334), (1750, 0.157160657407602, 1316504, 1316693), (1768, 0.013035226404022, 1316479, 1316504), (1982, 0.044046796017595, 1331768, 1331801), (1986, 0.12978972863621, 1331801, 1331864), (2016, 0.109986679002494, 1331879, 1331929), (2042, 0.057703802772619, 1331864, 1331879), (2169, 0.10166108253405, 1331554, 1331581), (2170, 0.008950205346307, 1331478, 1331481), (2170, 0.025456936098284, 1331464, 1331478), (2172, 0.135134556388277, 1331493, 1331554), (2196, 0.029124419515871, 1331239, 1331257), (2196, 0.043343985233604, 1331218, 1331239), (2206, 0.023057322024043, 1331293, 1331324), (2213, 0.037045665606716, 1331481, 1331493), (2216, 0.000742168289971, 1331170, 1331171), (2229, 0.052662009075063, 1331418, 1331464), (2230, 0.026426150218617, 1331257, 1331293), (2231, 0.024090914325804, 1331324, 1331359), (2249, 0.03632369552279, 1331171, 1331197), (2250, 0.056349588987969, 1331197, 1331218), (2257, 0.045684726330933, 1331359, 1331418)]\n",
      "\n",
      "0: [(1, 0.056405499636563, 938252, 938449), (2, 0.009487557274725, 938449, 938467), (3, 0.040139565941206, 938467, 938570), (7, 0.021470945576573, 937836, 937949), (7, 0.137631754061259, 938570, 939078), (14, 0.081422043612162, 937949, 938252)]\n",
      "\n",
      "1: [(0, 0.056405499636563, 934574, 934771), (2, 0.134147094293, 935162, 935618), (14, 0.134257045735935, 934771, 935149), (1153, 0.017874089111902, 935154, 935162), (1195, 0.015274477079208, 935149, 935154)]\n",
      "\n",
      "2: [(0, 0.009487557274725, 933159, 933177), (1, 0.134147094293, 933177, 933633), (3, 0.032299906847941, 934438, 934573), (12, 0.179296120639395, 933661, 934438), (1153, 0.000402761333045, 933633, 933636), (1194, 0.029778067337233, 933636, 933641), (1577, 0.003154757047751, 933641, 933643), (1585, 0.069522611265133, 933643, 933661)]\n",
      "\n",
      "3: [(0, 0.040139565941206, 929825, 929928), (2, 0.032299906847941, 929928, 930063), (4, 0.026247120688081, 930698, 930813), (7, 0.065636523151247, 930813, 930911), (12, 0.158942391565225, 930063, 930490), (13, 0.047960525054633, 930490, 930698)]\n",
      "\n"
     ]
    }
   ],
   "source": [
    "## TEST ##\n",
    "print(\"TEST: Endpoint dictionary created properly...\")\n",
    "print(\"Source Precinct: List of Neighboring Segments\")\n",
    "print(\"\")\n",
    "for i in range(5):\n",
    "    print(str(list(endpoint_dict.items())[i][0]) + \": \" + str(list(endpoint_dict.items())[i][1]))\n",
    "    print(\"\")"
   ]
  },
  {
   "cell_type": "code",
   "execution_count": 18,
   "metadata": {},
   "outputs": [
    {
     "name": "stdout",
     "output_type": "stream",
     "text": [
      "Number of line segments around the border of the state: 158\n",
      "\n"
     ]
    }
   ],
   "source": [
    "## TEST ##\n",
    "print(\"Number of line segments around the border of the state: \" + str(len(endpoint_dict[-1])))\n",
    "print(\"\")"
   ]
  },
  {
   "cell_type": "code",
   "execution_count": 19,
   "metadata": {},
   "outputs": [],
   "source": [
    "## TEST ##\n",
    "# We can verify that the line segments appear in clockwise order around the state boundary.\n",
    "#for each in sorted(endpoint_dict[-1], key = lambda tup: tup[2], reverse = True):\n",
    "#    print(each)"
   ]
  },
  {
   "cell_type": "code",
   "execution_count": 20,
   "metadata": {},
   "outputs": [
    {
     "name": "stdout",
     "output_type": "stream",
     "text": [
      "New number of line segments around the state border: 148\n",
      "Number of precincts total: 2260\n"
     ]
    }
   ],
   "source": [
    "# Generate the neighbor lists in clockwise order.\n",
    "# Create the neighbor_lists data frame.\n",
    "\n",
    "all_neighbors = list()\n",
    "boundary_neighbors = list()\n",
    "\n",
    "# For each source precinct:\n",
    "for SRC_PSN in endpoint_dict:\n",
    "    # For the outer neighbors, we need to reverse the order.\n",
    "    if SRC_PSN == -1:\n",
    "        # Sort the potential neighbors into a list, sorted in reverse order.\n",
    "        border_precincts = sorted(endpoint_dict[SRC_PSN], key = lambda nbr: nbr[2], reverse = True)\n",
    "        \n",
    "        # Make sure that the endpoints match sequentially.\n",
    "        for i in range(len(border_precincts)-1):\n",
    "            assert(border_precincts[i][2] == border_precincts[i+1][3])\n",
    "            \n",
    "        all_boundary_precincts = list()\n",
    "        \n",
    "        for bdr_pct in border_precincts:\n",
    "            pct = bdr_pct[0]\n",
    "            perim = bdr_pct[1]\n",
    "            \n",
    "            # If this is the first boundary precinct:\n",
    "            if len(all_boundary_precincts) == 0:\n",
    "                all_boundary_precincts.append([pct,perim])\n",
    "            # If it isn't the first neighbor we've seen...\n",
    "            else:\n",
    "                # If we have two of the same border precinct in a row...\n",
    "                # (Look at the last item in the list of boundary precincts...)\n",
    "                if all_boundary_precincts[-1][0] == pct:\n",
    "                    assert(all_boundary_precincts[-1][1] != perim)\n",
    "                    # Then we have two adjacent line segments along the state boundary for a single precinct.\n",
    "                    # Don't change the neighbor, but add the shared perimeter.\n",
    "                    all_boundary_precincts[-1][1] = all_boundary_precincts[-1][1] + perim\n",
    "                # But if it's a new neighbor...\n",
    "                else:\n",
    "                    all_boundary_precincts.append([pct,perim])\n",
    "        print(\"New number of line segments around the state border: \" + str(len(all_boundary_precincts)))\n",
    "        # Note: This includes multi-adjacencies, so this number is greater than the number of border precincts.\n",
    "        \n",
    "    # For all other neighbors:\n",
    "    else:\n",
    "        # Sort the potential neighbors into a list, sorted by their starting endpoint.\n",
    "        sorted_neighbors = sorted(endpoint_dict[SRC_PSN], key = lambda nbr: nbr[2])\n",
    "        \n",
    "        # Make sure the endpoints match sequentially.\n",
    "        for i in range(len(sorted_neighbors)-1):\n",
    "            # If this assertion error fails, it implies an issue with the vertices. Use the lines of code below to pinpoint the issue. \n",
    "            # An error may happen if two polygons intersect at a point, and the bordering polygon is missing a vertex at that point.\n",
    "            assert(sorted_neighbors[i][3] == sorted_neighbors[i+1][2])\n",
    "            #assert(sorted_neighbors[i][3] == sorted_neighbors[i+1][2]),(\"Errors: \"+str(sorted_neighbors[i])+\" and \"+str(sorted_neighbors[i+1]))\n",
    "            # \"Errors: \"+str(sorted_neighbors[i])+\" and \"+str(sorted_neighbors[i+1])\n",
    "            #if sorted_neighbors[i][3] != sorted_neighbors[i+1][2]:\n",
    "                #print(str(sorted_neighbors[i])+\" and \"+str(sorted_neighbors[i+1]))\n",
    "            \n",
    "        pending_neighbor_list = list()\n",
    "        pending_perim_list = list()\n",
    "        \n",
    "        for neighbor in sorted_neighbors:\n",
    "            nbr = neighbor[0]\n",
    "            perim = neighbor[1]\n",
    "            \n",
    "            # If this is the first neighbor we come across...\n",
    "            if len(pending_neighbor_list) == 0 and len(pending_perim_list) == 0:\n",
    "                pending_neighbor_list.append(nbr)\n",
    "                pending_perim_list.append(perim)\n",
    "            # If it isn't the first neighbor we've seen...\n",
    "            else:\n",
    "                # If we have two of the same neighbor in a row...\n",
    "                if pending_neighbor_list[-1] == nbr:\n",
    "                    assert(pending_perim_list[-1] != perim)\n",
    "                    # Then we have two adjacent line segments along the same neighbor boundary.\n",
    "                    # Don't change the pending_neighbor_list.\n",
    "                    # Add the shared perimeter to the previous one.\n",
    "                    pending_perim_list[-1] = pending_perim_list[-1] + perim\n",
    "                # But if it's a new neighbor...\n",
    "                else:\n",
    "                    pending_neighbor_list.append(nbr)\n",
    "                    pending_perim_list.append(perim)\n",
    "                    \n",
    "        all_neighbors.append([SRC_PSN, pending_neighbor_list, pending_perim_list])\n",
    "        \n",
    "print(\"Number of precincts total: \" + str(len(all_neighbors)))"
   ]
  },
  {
   "cell_type": "code",
   "execution_count": 21,
   "metadata": {},
   "outputs": [
    {
     "name": "stdout",
     "output_type": "stream",
     "text": [
      "TEST: Boundary precincts properly calculated...\n",
      "[1063, 0.020187312457473]\n",
      "[1130, 0.153577024894953]\n",
      "[1033, 0.062683160489378]\n",
      "[2016, 0.109986679002494]\n",
      "[2042, 0.057703802772619]\n",
      "\n"
     ]
    }
   ],
   "source": [
    "## TEST ##\n",
    "print(\"TEST: Boundary precincts properly calculated...\")\n",
    "for i in range(5):\n",
    "    print(all_boundary_precincts[i])\n",
    "print(\"\")"
   ]
  },
  {
   "cell_type": "code",
   "execution_count": 22,
   "metadata": {},
   "outputs": [
    {
     "name": "stdout",
     "output_type": "stream",
     "text": [
      "TEST: All precincts properly calculated...\n",
      "Source Precinct, List of Neighbors, List of Shared Perimeters\n",
      "\n",
      "[0, [7, 14, 1, 2, 3, 7], [0.021470945576573, 0.081422043612162, 0.056405499636563, 0.009487557274725, 0.040139565941206, 0.137631754061259]]\n",
      "\n",
      "[1, [0, 14, 1195, 1153, 2], [0.056405499636563, 0.134257045735935, 0.015274477079208, 0.017874089111902, 0.134147094293]]\n",
      "\n",
      "[2, [0, 1, 1153, 1194, 1577, 1585, 12, 3], [0.009487557274725, 0.134147094293, 0.000402761333045, 0.029778067337233, 0.003154757047751, 0.069522611265133, 0.179296120639395, 0.032299906847941]]\n",
      "\n",
      "[3, [0, 2, 12, 13, 4, 7], [0.040139565941206, 0.032299906847941, 0.158942391565225, 0.047960525054633, 0.026247120688081, 0.065636523151247]]\n",
      "\n",
      "[4, [7, 3, 13, 155, 186, 11], [0.041620503426295, 0.026247120688081, 0.240370227160402, 0.050181892665596, 0.069213248577406, 0.160576551976114]]\n",
      "\n"
     ]
    }
   ],
   "source": [
    "## TEST ##\n",
    "print(\"TEST: All precincts properly calculated...\")\n",
    "print(\"Source Precinct, List of Neighbors, List of Shared Perimeters\")\n",
    "print(\"\")\n",
    "for i in range(5):\n",
    "    print(all_neighbors[i])\n",
    "    print(\"\")"
   ]
  },
  {
   "cell_type": "code",
   "execution_count": 23,
   "metadata": {},
   "outputs": [],
   "source": [
    "# Clean the main neighbor list.\n",
    "for line in all_neighbors:\n",
    "    src_PSN = line[0]\n",
    "    nbrs_list = line[1]\n",
    "    sp_list = line[2]\n",
    "    \n",
    "    # If the first and last precincts in the neighbor list are the same...\n",
    "    if nbrs_list[0] == nbrs_list[-1]:\n",
    "        # Verify that the shared perimeters are different; i.e. that they are different line segments.\n",
    "        assert(sp_list[0] != sp_list[-1])\n",
    "        # Remove last instance of the neighbor.\n",
    "        nbrs_list.pop()\n",
    "        # Verify that the neighbors list contains no more duplicates.\n",
    "        assert(nbrs_list[0] != nbrs_list[-1])\n",
    "        # Overwrite the old neighbor list with the new one.\n",
    "        line[1] = nbrs_list\n",
    "        \n",
    "        # Add the last shared perimeter length to the first instance of the neighbor's shared boundary.\n",
    "        to_add = sp_list[-1]\n",
    "        sp_list.pop()\n",
    "        sp_list[0] = sp_list[0] + to_add\n",
    "        line[2] = sp_list"
   ]
  },
  {
   "cell_type": "code",
   "execution_count": 24,
   "metadata": {},
   "outputs": [
    {
     "name": "stdout",
     "output_type": "stream",
     "text": [
      "TEST: Neighbor lists contain no duplicates...\n",
      "\n",
      "[0, [7, 14, 1, 2, 3], [0.159102699637832, 0.081422043612162, 0.056405499636563, 0.009487557274725, 0.040139565941206]]\n",
      "\n",
      "[1, [0, 14, 1195, 1153, 2], [0.056405499636563, 0.134257045735935, 0.015274477079208, 0.017874089111902, 0.134147094293]]\n",
      "\n",
      "[2, [0, 1, 1153, 1194, 1577, 1585, 12, 3], [0.009487557274725, 0.134147094293, 0.000402761333045, 0.029778067337233, 0.003154757047751, 0.069522611265133, 0.179296120639395, 0.032299906847941]]\n",
      "\n",
      "[3, [0, 2, 12, 13, 4, 7], [0.040139565941206, 0.032299906847941, 0.158942391565225, 0.047960525054633, 0.026247120688081, 0.065636523151247]]\n",
      "\n",
      "[4, [7, 3, 13, 155, 186, 11], [0.041620503426295, 0.026247120688081, 0.240370227160402, 0.050181892665596, 0.069213248577406, 0.160576551976114]]\n",
      "\n"
     ]
    }
   ],
   "source": [
    "## TEST ##\n",
    "print(\"TEST: Neighbor lists contain no duplicates...\")\n",
    "print(\"\")\n",
    "for i in range(5):\n",
    "    print(all_neighbors[i])\n",
    "    print(\"\")"
   ]
  },
  {
   "cell_type": "code",
   "execution_count": 25,
   "metadata": {},
   "outputs": [
    {
     "name": "stdout",
     "output_type": "stream",
     "text": [
      "Number of boundary precincts: 147\n",
      "\n"
     ]
    }
   ],
   "source": [
    "# NOTE: No reason in particular why this code is here. It can probably be moved up but I was in a hurry.\n",
    "# If the first and last boundary precinct in the list are the same, the border precincts were counted starting in the middle of a precinct...\n",
    "if all_boundary_precincts[0][0] == all_boundary_precincts[-1][0]:\n",
    "    # Move the last item in the list to the front.\n",
    "    all_boundary_precincts.insert(0, all_boundary_precincts.pop())\n",
    "    # Make sure the first two boundary precincts in the list are the same.\n",
    "    assert(all_boundary_precincts[0][0]==all_boundary_precincts[1][0])\n",
    "    # Add the perimeters.\n",
    "    all_boundary_precincts[1][1] += all_boundary_precincts[0][1]\n",
    "    # Remove the first boundary precinct, because now it's a duplicate.\n",
    "    all_boundary_precincts.pop(0)\n",
    "    \n",
    "# Print number of boundary precincts.\n",
    "print(\"Number of boundary precincts: \" + str(len(all_boundary_precincts)))\n",
    "print(\"\")"
   ]
  },
  {
   "cell_type": "code",
   "execution_count": 26,
   "metadata": {},
   "outputs": [],
   "source": [
    "# Give each border precinct a location serial number ranging from -n, -(n-1), ..., -1.\n",
    "# In the dictionary...\n",
    "# Keys: Border Precinct PSNs.\n",
    "# Values: Dictionary of the form {perim : location SN}.\n",
    "\n",
    "n = len(all_boundary_precincts)\n",
    "\n",
    "bdr_pct_dict = dict()\n",
    "\n",
    "for line in all_boundary_precincts:\n",
    "    pct = line[0]\n",
    "    perim = line[1]\n",
    "    # If the boundary precinct is already in the dictionary...\n",
    "    # i.e. if we have a multi-adjacency\n",
    "    if pct in bdr_pct_dict:\n",
    "        # Add the perimeter and corresponding location SN to the border precinct's dictionary.\n",
    "        bdr_pct_dict[pct][perim] = -n\n",
    "    else: # if pct not in bdr_pct_dict:\n",
    "        # Add the precinct as a key to the dictionary.\n",
    "        # Give it a dictionary with perim as the key and the location SN as the value.\n",
    "        bdr_pct_dict[pct] = {perim : -n}\n",
    "        \n",
    "    n = n-1"
   ]
  },
  {
   "cell_type": "code",
   "execution_count": 27,
   "metadata": {},
   "outputs": [
    {
     "name": "stdout",
     "output_type": "stream",
     "text": [
      "TEST: Check border precincts...\n",
      "[1063, 0.643082735356202]\n",
      "[1130, 0.153577024894953]\n",
      "[1033, 0.062683160489378]\n",
      "[2016, 0.109986679002494]\n",
      "[2042, 0.057703802772619]\n"
     ]
    }
   ],
   "source": [
    "## TEST ##\n",
    "print(\"TEST: Check border precincts...\")\n",
    "for i in range(5):\n",
    "    print(all_boundary_precincts[i])"
   ]
  },
  {
   "cell_type": "code",
   "execution_count": 28,
   "metadata": {},
   "outputs": [
    {
     "name": "stdout",
     "output_type": "stream",
     "text": [
      "TEST: Verify border precinct location serial numbers...\n",
      "6: {0.145945998570424: -16}\n",
      "13: {0.132037187075853: -15}\n",
      "26: {0.191598580748001: -30}\n",
      "32: {0.035552391488576: -29}\n",
      "46: {0.221080863867295: -31}\n",
      "\n"
     ]
    }
   ],
   "source": [
    "## TEST ##\n",
    "print(\"TEST: Verify border precinct location serial numbers...\")\n",
    "for i in range(5):\n",
    "    print(str(sorted(bdr_pct_dict.keys())[i]) + \": \" + str(bdr_pct_dict[sorted(bdr_pct_dict.keys())[i]]))\n",
    "print(\"\")"
   ]
  },
  {
   "cell_type": "code",
   "execution_count": 29,
   "metadata": {},
   "outputs": [],
   "source": [
    "## TEST ##\n",
    "# We can test to check and see if some precincts have multi-adjacency.\n",
    "# for item in bdr_pct_dict.items():\n",
    "#     print(item)"
   ]
  },
  {
   "cell_type": "code",
   "execution_count": 30,
   "metadata": {},
   "outputs": [
    {
     "name": "stdout",
     "output_type": "stream",
     "text": [
      "Total number of border precincts: 147\n",
      "\n"
     ]
    }
   ],
   "source": [
    "print(\"Total number of border precincts: \" + str(len(bdr_pct_dict)))\n",
    "print(\"\")"
   ]
  },
  {
   "cell_type": "code",
   "execution_count": 32,
   "metadata": {},
   "outputs": [
    {
     "name": "stdout",
     "output_type": "stream",
     "text": [
      "[0, [7, 14, 1, 2, 3], [0.159102699637832, 0.081422043612162, 0.056405499636563, 0.009487557274725, 0.040139565941206]]\n",
      "\n",
      "[4, [7, 3, 13, 155, 186, 11], [0.041620503426295, 0.026247120688081, 0.240370227160402, 0.050181892665596, 0.069213248577406, 0.160576551976114]]\n",
      "\n",
      "[2127, [2118, 2022, 2135, 2122, 2116], [0.170439736524892, 0.075537798585218, 0.145802116272933, 0.070206569698861, 0.098770537566388]]\n",
      "\n"
     ]
    }
   ],
   "source": [
    "# Examples\n",
    "print(all_neighbors[0])\n",
    "print(\"\")\n",
    "print(all_neighbors[4])\n",
    "print(\"\")\n",
    "print(all_neighbors[2127])\n",
    "print(\"\")"
   ]
  },
  {
   "cell_type": "code",
   "execution_count": 33,
   "metadata": {},
   "outputs": [
    {
     "name": "stdout",
     "output_type": "stream",
     "text": [
      "(1063, {0.643082735356202: -147})\n",
      "(1130, {0.153577024894953: -146})\n",
      "(1033, {0.062683160489378: -145})\n",
      "(2016, {0.109986679002494: -144})\n",
      "(2042, {0.057703802772619: -143})\n",
      "(1986, {0.12978972863621: -142})\n",
      "(1982, {0.044046796017595: -141})\n",
      "(621, {0.099803002319372: -140})\n",
      "(604, {0.050798598472763: -139})\n",
      "(629, {0.04870707171063: -138})\n",
      "(616, {0.066022829159164: -137})\n",
      "(617, {0.166947286354569: -136})\n",
      "(603, {0.076218109540477: -135})\n",
      "(2169, {0.10166108253405: -134})\n",
      "(2172, {0.135134556388277: -133})\n",
      "(2213, {0.037045665606716: -132})\n",
      "(2170, {0.034407141444591: -131})\n",
      "(2229, {0.052662009075063: -130})\n",
      "(2257, {0.045684726330933: -129})\n",
      "(2231, {0.024090914325804: -128})\n",
      "(2206, {0.023057322024043: -127})\n",
      "(2230, {0.026426150218617: -126})\n",
      "(2196, {0.072468404749475: -125})\n",
      "(2250, {0.056349588987969: -124})\n",
      "(2249, {0.03632369552279: -123})\n",
      "(2216, {0.000742168289971: -122})\n",
      "(1400, {0.077683023383396: -121})\n",
      "(1413, {0.005014517446721: -120})\n",
      "(1389, {0.057856826807463: -119})\n",
      "(1418, {0.037792532720474: -118})\n",
      "(1411, {0.078199641240831: -117})\n",
      "(1423, {0.048257646546293: -116})\n",
      "(1403, {0.070544857614027: -115})\n",
      "(1421, {0.100669766613155: -114})\n",
      "(1419, {0.064588636716547: -113})\n",
      "(662, {0.144575412926143: -112})\n",
      "(670, {0.076584223409565: -111})\n",
      "(656, {0.062241491940518: -110})\n",
      "(667, {0.120363867028763: -109})\n",
      "(673, {0.032891382984205: -108})\n",
      "(675, {0.111878565864949: -107})\n",
      "(654, {0.085879568144565: -106})\n",
      "(1616, {0.164305192129725: -105})\n",
      "(1611, {0.039013964131607: -104})\n",
      "(1605, {0.056923049976497: -103})\n",
      "(1603, {0.147294492310624: -102})\n",
      "(1609, {0.097660666812242: -101})\n",
      "(1607, {0.037540545468968: -100})\n",
      "(766, {0.109473905113491: -99})\n",
      "(780, {0.064983009211166: -98})\n",
      "(770, {0.055305989453738: -97})\n",
      "(781, {0.097318512864777: -96})\n",
      "(772, {0.170146023211114: -95})\n",
      "(1323, {0.154294796814255: -94})\n",
      "(1260, {0.092294987473151: -93})\n",
      "(1268, {0.072021977440692: -92})\n",
      "(1246, {0.043371548169912: -91})\n",
      "(1328, {0.108557059837823: -90})\n",
      "(1247, {0.080054732698916: -89})\n",
      "(1221, {0.045008688910287: -88})\n",
      "(1278, {0.055103501469503: -87})\n",
      "(1232, {0.020699943667638: -86})\n",
      "(1231, {0.206733412026104: -85})\n",
      "(1299, {0.019396670178374: -84})\n",
      "(1298, {0.026563872756702: -83})\n",
      "(1237, {0.02065320299555: -82})\n",
      "(1217, {0.004293687785681: -81})\n",
      "(1337, {0.022801867989648: -80})\n",
      "(1244, {0.006534140662728: -79})\n",
      "(1243, {0.054226175557818: -78})\n",
      "(1242, {0.023208255272414: -77})\n",
      "(1300, {0.03897291832734: -76})\n",
      "(1291, {0.004282627521605: -75})\n",
      "(1290, {0.016037794924316: -74})\n",
      "(1234, {0.011400037669245: -73})\n",
      "(1315, {0.014881570003145: -72})\n",
      "(1269, {0.036221282201046: -71})\n",
      "(1270, {0.017927988864466: -70})\n",
      "(1327, {0.043298209529822: -69})\n",
      "(1325, {0.012671735321746: -68})\n",
      "(1324, {0.00057885566817: -67})\n",
      "(980, {0.110982546194869: -66})\n",
      "(979, {0.043424301145056: -65})\n",
      "(982, {0.01013880869105: -64})\n",
      "(984, {0.091488065615636: -63})\n",
      "(985, {0.21159764825809: -62})\n",
      "(993, {0.251141635055524: -61})\n",
      "(483, {0.240550766179471: -60})\n",
      "(419, {0.237914764824656: -59})\n",
      "(514, {0.058159252150612: -58})\n",
      "(453, {0.111310464537994: -57})\n",
      "(451, {0.02803815049561: -56})\n",
      "(597, {0.029070503406212: -55})\n",
      "(450, {0.145750202270599: -54})\n",
      "(449, {0.048162745572081: -53})\n",
      "(480, {0.252677188795123: -52})\n",
      "(598, {0.037945356637011: -51})\n",
      "(448, {0.042497960533329: -50})\n",
      "(707, {0.128460901155551: -49})\n",
      "(296, {0.41164557384692: -48})\n",
      "(268, {0.032972162295632: -47})\n",
      "(269, {0.064154000864387: -46})\n",
      "(270, {0.020847011058718: -45})\n",
      "(251, {0.075771797222122: -44})\n",
      "(1346, {0.716867318998068: -43})\n",
      "(1345, {0.189475758076741: -42})\n",
      "(1353, {0.376876120510212: -41})\n",
      "(1348, {0.051066366698019: -40})\n",
      "(1205, {0.071326969205862: -39})\n",
      "(1203, {0.423498682880687: -38})\n",
      "(103, {0.473083892272912: -37})\n",
      "(107, {0.106841699784156: -36})\n",
      "(104, {0.318524018889001: -35})\n",
      "(212, {0.233233608495941: -34})\n",
      "(89, {0.116006479519838: -33})\n",
      "(49, {0.2230487779891: -32})\n",
      "(46, {0.221080863867295: -31})\n",
      "(26, {0.191598580748001: -30})\n",
      "(32, {0.035552391488576: -29})\n",
      "(62, {0.019603853259985: -28})\n",
      "(66, {0.022424013853071: -27})\n",
      "(69, {0.046708206963797: -26})\n",
      "(871, {0.128601029273794: -25})\n",
      "(1576, {0.171417990053215: -24})\n",
      "(1579, {0.050244673713691: -23})\n",
      "(1582, {0.055568858842416: -22})\n",
      "(1583, {0.092596217703359: -21})\n",
      "(1578, {0.018672777141961: -20})\n",
      "(1584, {0.171269601214287: -19})\n",
      "(1585, {0.047499209596723: -18})\n",
      "(1581, {0.111076981374458: -17})\n",
      "(6, {0.145945998570424: -16})\n",
      "(13, {0.132037187075853: -15})\n",
      "(156, {0.158775070437117: -14})\n",
      "(182, {0.096675265318244: -13})\n",
      "(170, {0.035567543601743: -12})\n",
      "(142, {0.174616141767706: -11})\n",
      "(1647, {0.085353672102563: -10})\n",
      "(1666, {0.067717553876586: -9})\n",
      "(1674, {0.164373623606354: -8})\n",
      "(1652, {0.136552621698443: -7})\n",
      "(1651, {0.432517607383183: -6})\n",
      "(1653, {0.461791036202453: -5})\n",
      "(1668, {0.038493912479317: -4})\n",
      "(1660, {0.125663289639878: -3})\n",
      "(1750, {0.157160657407602: -2})\n",
      "(1768, {0.013035226404022: -1})\n"
     ]
    }
   ],
   "source": [
    "for line in bdr_pct_dict.items():\n",
    "    print(line)"
   ]
  },
  {
   "cell_type": "code",
   "execution_count": 34,
   "metadata": {},
   "outputs": [],
   "source": [
    "# If a precinct in the neighbor list data frame contains -1 in its list of neighbors, it is a border precinct.\n",
    "# Replace the -1's with the location SNs that give the precinct's relative position around the state border.\n",
    "for line in all_neighbors:\n",
    "    src_PSN = line[0]\n",
    "    nbrs_list = line[1]\n",
    "    sp_list = line[2]\n",
    "    if src_PSN in bdr_pct_dict: # if not, do nothing\n",
    "        # Find the -1 in the neighbor list.\n",
    "        # Note that this may be either the only instance or merely the first instance.\n",
    "        idx = nbrs_list.index(-1)\n",
    "        # Find the corresponding boundary length.\n",
    "        perim = sp_list[idx]\n",
    "        # Note the location SN.\n",
    "        loc_SN = bdr_pct_dict[src_PSN][perim]\n",
    "        # Replace the instance of -1 in the neighbor list with the location SN.\n",
    "        nbrs_list[idx] = loc_SN\n",
    "        \n",
    "        if loc_SN != -1:\n",
    "            # Check to see if there is another instance of -1 in the neighbor list.\n",
    "            if -1 in nbrs_list: # if not, do nothing\n",
    "                idx2 = nbrs_list.index(-1)\n",
    "                perim2 = sp_list[idx2]\n",
    "                loc_SN2 = bdr_pct_dict[src_PSN][perim2]\n",
    "                # Replace the other instance of -1 with the location SN.\n",
    "                nbrs_list[idx2] = loc_SN2\n",
    "                # Make sure this is the last instance of -1.\n",
    "                assert(-1 not in nbrs_list)\n",
    "        \n",
    "# Now we not only know from all_neighbors which precincts border the edge of the state,\n",
    "# but also their relative positions to the center of the state."
   ]
  },
  {
   "cell_type": "code",
   "execution_count": 35,
   "metadata": {},
   "outputs": [
    {
     "name": "stdout",
     "output_type": "stream",
     "text": [
      "TEST: Verify that outerstate neighbors have correct indices...\n",
      "\n",
      "[0, [7, 14, 1, 2, 3], [0.159102699637832, 0.081422043612162, 0.056405499636563, 0.009487557274725, 0.040139565941206]]\n",
      "\n",
      "[1, [0, 14, 1195, 1153, 2], [0.056405499636563, 0.134257045735935, 0.015274477079208, 0.017874089111902, 0.134147094293]]\n",
      "\n",
      "[2, [0, 1, 1153, 1194, 1577, 1585, 12, 3], [0.009487557274725, 0.134147094293, 0.000402761333045, 0.029778067337233, 0.003154757047751, 0.069522611265133, 0.179296120639395, 0.032299906847941]]\n",
      "\n",
      "[3, [0, 2, 12, 13, 4, 7], [0.040139565941206, 0.032299906847941, 0.158942391565225, 0.047960525054633, 0.026247120688081, 0.065636523151247]]\n",
      "\n",
      "[4, [7, 3, 13, 155, 186, 11], [0.041620503426295, 0.026247120688081, 0.240370227160402, 0.050181892665596, 0.069213248577406, 0.160576551976114]]\n",
      "\n"
     ]
    }
   ],
   "source": [
    "## TEST ##\n",
    "print(\"TEST: Verify that outerstate neighbors have correct indices...\")\n",
    "print(\"\")\n",
    "for i in range(5):\n",
    "    print(all_neighbors[i])\n",
    "    print(\"\")"
   ]
  },
  {
   "cell_type": "code",
   "execution_count": 37,
   "metadata": {},
   "outputs": [
    {
     "name": "stdout",
     "output_type": "stream",
     "text": [
      "TEST: Verify that no neighbors appear first AND last in a neighbor list...\n"
     ]
    }
   ],
   "source": [
    "## TEST ##\n",
    "print(\"TEST: Verify that no neighbors appear first AND last in a neighbor list...\")\n",
    "\n",
    "for line in all_neighbors:\n",
    "    nbrs_list = line[1]\n",
    "    if nbrs_list[0] == nbrs_list[-1]:\n",
    "        print(line)"
   ]
  },
  {
   "cell_type": "code",
   "execution_count": 38,
   "metadata": {},
   "outputs": [],
   "source": [
    "# Create a new data frame.\n",
    "# This one will contain each unique precinct's neighbors and shared perimeters\n",
    "# as STRINGS of comma-separated values.\n",
    "\n",
    "neighbor_list = list()\n",
    "\n",
    "for line in all_neighbors:\n",
    "    pct = line[0]\n",
    "    nbrs = line[1]\n",
    "    perims = line[2]\n",
    "    \n",
    "    nbr_list = ''\n",
    "    sp_list = ''\n",
    "    \n",
    "    for nbr in nbrs:\n",
    "        nbr_list = nbr_list + str(nbr) + ','\n",
    "    for sp in perims:\n",
    "        sp_list = sp_list + str(sp) + ','\n",
    "        \n",
    "    nbr_list = nbr_list[:-1]\n",
    "    sp_list = sp_list[:-1]\n",
    "    \n",
    "    neighbor_list.append([pct,nbr_list,sp_list])"
   ]
  },
  {
   "cell_type": "code",
   "execution_count": 40,
   "metadata": {},
   "outputs": [],
   "source": [
    "# Write the final data frame to a CSV.\n",
    "\n",
    "outfile2 = open(\"C:/Users/avagnoz/Desktop/Updated_Precinct_Cleaning/neighbors/SC2021_clockwise_neighbors.csv\",'w')\n",
    "writer = csv.writer(outfile2)\n",
    "writer.writerow([\"PSN\",\"nb\",\"sp\"])\n",
    "\n",
    "for row in neighbor_list:\n",
    "    writer.writerow(row)\n",
    "    \n",
    "outfile2.close()"
   ]
  },
  {
   "cell_type": "code",
   "execution_count": null,
   "metadata": {},
   "outputs": [],
   "source": []
  }
 ],
 "metadata": {
  "kernelspec": {
   "display_name": "Python 3",
   "language": "python",
   "name": "python3"
  },
  "language_info": {
   "codemirror_mode": {
    "name": "ipython",
    "version": 3
   },
   "file_extension": ".py",
   "mimetype": "text/x-python",
   "name": "python",
   "nbconvert_exporter": "python",
   "pygments_lexer": "ipython3",
   "version": "3.7.10"
  }
 },
 "nbformat": 4,
 "nbformat_minor": 2
}
